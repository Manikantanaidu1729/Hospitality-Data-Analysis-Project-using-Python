{
 "cells": [
  {
   "cell_type": "code",
   "execution_count": 1,
   "id": "4b8cd831",
   "metadata": {},
   "outputs": [],
   "source": [
    "can=\"beans\""
   ]
  },
  {
   "cell_type": "code",
   "execution_count": 2,
   "id": "16a3eb56",
   "metadata": {},
   "outputs": [
    {
     "data": {
      "text/plain": [
       "str"
      ]
     },
     "execution_count": 2,
     "metadata": {},
     "output_type": "execute_result"
    }
   ],
   "source": [
    "type(can)"
   ]
  },
  {
   "cell_type": "code",
   "execution_count": 3,
   "id": "7a0a83ef",
   "metadata": {},
   "outputs": [],
   "source": [
    "first_name=\"mani\"\n",
    "last_name=\"kanta\""
   ]
  },
  {
   "cell_type": "code",
   "execution_count": 4,
   "id": "28981805",
   "metadata": {},
   "outputs": [
    {
     "data": {
      "text/plain": [
       "str"
      ]
     },
     "execution_count": 4,
     "metadata": {},
     "output_type": "execute_result"
    }
   ],
   "source": [
    "type(first_name)"
   ]
  },
  {
   "cell_type": "code",
   "execution_count": 5,
   "id": "0f317745",
   "metadata": {},
   "outputs": [],
   "source": [
    "pizza=100"
   ]
  },
  {
   "cell_type": "code",
   "execution_count": 7,
   "id": "49707cd2",
   "metadata": {},
   "outputs": [
    {
     "data": {
      "text/plain": [
       "int"
      ]
     },
     "execution_count": 7,
     "metadata": {},
     "output_type": "execute_result"
    }
   ],
   "source": [
    "type(pizza)"
   ]
  },
  {
   "cell_type": "code",
   "execution_count": 8,
   "id": "92b9c5d5",
   "metadata": {},
   "outputs": [
    {
     "data": {
      "text/plain": [
       "float"
      ]
     },
     "execution_count": 8,
     "metadata": {},
     "output_type": "execute_result"
    }
   ],
   "source": [
    "samosa=20.5\n",
    "type(samosa)"
   ]
  },
  {
   "cell_type": "code",
   "execution_count": 9,
   "id": "0742e9db",
   "metadata": {},
   "outputs": [
    {
     "data": {
      "text/plain": [
       "120.5"
      ]
     },
     "execution_count": 9,
     "metadata": {},
     "output_type": "execute_result"
    }
   ],
   "source": [
    "total=pizza+samosa\n",
    "total"
   ]
  },
  {
   "cell_type": "code",
   "execution_count": 10,
   "id": "e894463e",
   "metadata": {},
   "outputs": [],
   "source": [
    "learn_python=True\n",
    "learn_fortran=False"
   ]
  },
  {
   "cell_type": "code",
   "execution_count": 11,
   "id": "0671e9c2",
   "metadata": {},
   "outputs": [
    {
     "data": {
      "text/plain": [
       "bool"
      ]
     },
     "execution_count": 11,
     "metadata": {},
     "output_type": "execute_result"
    }
   ],
   "source": [
    "type(learn_python)"
   ]
  },
  {
   "cell_type": "code",
   "execution_count": 12,
   "id": "eac92555",
   "metadata": {},
   "outputs": [],
   "source": [
    "foo=\"jilebi\""
   ]
  },
  {
   "cell_type": "code",
   "execution_count": 13,
   "id": "35be1cb3",
   "metadata": {},
   "outputs": [],
   "source": [
    "bar=\"jilebi\""
   ]
  },
  {
   "cell_type": "code",
   "execution_count": 14,
   "id": "f2895cd3",
   "metadata": {},
   "outputs": [
    {
     "data": {
      "text/plain": [
       "2711066449776"
      ]
     },
     "execution_count": 14,
     "metadata": {},
     "output_type": "execute_result"
    }
   ],
   "source": [
    "id(foo)"
   ]
  },
  {
   "cell_type": "code",
   "execution_count": 15,
   "id": "7b936489",
   "metadata": {},
   "outputs": [
    {
     "data": {
      "text/plain": [
       "2711066449776"
      ]
     },
     "execution_count": 15,
     "metadata": {},
     "output_type": "execute_result"
    }
   ],
   "source": [
    "id(bar)"
   ]
  },
  {
   "cell_type": "code",
   "execution_count": 16,
   "id": "deb4ec65",
   "metadata": {},
   "outputs": [],
   "source": [
    "bar=\"samosa\""
   ]
  },
  {
   "cell_type": "code",
   "execution_count": 17,
   "id": "fc2524b0",
   "metadata": {},
   "outputs": [
    {
     "data": {
      "text/plain": [
       "2711065240176"
      ]
     },
     "execution_count": 17,
     "metadata": {},
     "output_type": "execute_result"
    }
   ],
   "source": [
    "id(bar)"
   ]
  },
  {
   "cell_type": "code",
   "execution_count": 18,
   "id": "b6f193cb",
   "metadata": {},
   "outputs": [
    {
     "ename": "SyntaxError",
     "evalue": "invalid syntax (<ipython-input-18-3bb548471f91>, line 1)",
     "output_type": "error",
     "traceback": [
      "\u001b[1;36m  File \u001b[1;32m\"<ipython-input-18-3bb548471f91>\"\u001b[1;36m, line \u001b[1;32m1\u001b[0m\n\u001b[1;33m    def = 5\u001b[0m\n\u001b[1;37m        ^\u001b[0m\n\u001b[1;31mSyntaxError\u001b[0m\u001b[1;31m:\u001b[0m invalid syntax\n"
     ]
    }
   ],
   "source": [
    "def = 5"
   ]
  },
  {
   "cell_type": "code",
   "execution_count": 19,
   "id": "34cd5c4f",
   "metadata": {},
   "outputs": [
    {
     "ename": "SyntaxError",
     "evalue": "invalid syntax (<ipython-input-19-1a9bb92cc795>, line 1)",
     "output_type": "error",
     "traceback": [
      "\u001b[1;36m  File \u001b[1;32m\"<ipython-input-19-1a9bb92cc795>\"\u001b[1;36m, line \u001b[1;32m1\u001b[0m\n\u001b[1;33m    if = 5\u001b[0m\n\u001b[1;37m       ^\u001b[0m\n\u001b[1;31mSyntaxError\u001b[0m\u001b[1;31m:\u001b[0m invalid syntax\n"
     ]
    }
   ],
   "source": [
    "if = 5"
   ]
  },
  {
   "cell_type": "code",
   "execution_count": 20,
   "id": "d93d4105",
   "metadata": {},
   "outputs": [],
   "source": [
    "n=5"
   ]
  },
  {
   "cell_type": "code",
   "execution_count": 21,
   "id": "8efeda0a",
   "metadata": {},
   "outputs": [],
   "source": [
    "_name=\"mani\""
   ]
  },
  {
   "cell_type": "code",
   "execution_count": 22,
   "id": "fd619fc5",
   "metadata": {},
   "outputs": [],
   "source": [
    "_name1=\"mani\""
   ]
  },
  {
   "cell_type": "code",
   "execution_count": 25,
   "id": "fd43c8d6",
   "metadata": {},
   "outputs": [
    {
     "ename": "SyntaxError",
     "evalue": "invalid syntax (<ipython-input-25-3e73c9220ed3>, line 1)",
     "output_type": "error",
     "traceback": [
      "\u001b[1;36m  File \u001b[1;32m\"<ipython-input-25-3e73c9220ed3>\"\u001b[1;36m, line \u001b[1;32m1\u001b[0m\n\u001b[1;33m    _name$=\"mani\"\u001b[0m\n\u001b[1;37m         ^\u001b[0m\n\u001b[1;31mSyntaxError\u001b[0m\u001b[1;31m:\u001b[0m invalid syntax\n"
     ]
    }
   ],
   "source": [
    "_name$=\"mani\""
   ]
  },
  {
   "cell_type": "code",
   "execution_count": 26,
   "id": "5cda4d00",
   "metadata": {},
   "outputs": [
    {
     "ename": "SyntaxError",
     "evalue": "invalid syntax (<ipython-input-26-9d7e52b7acf3>, line 1)",
     "output_type": "error",
     "traceback": [
      "\u001b[1;36m  File \u001b[1;32m\"<ipython-input-26-9d7e52b7acf3>\"\u001b[1;36m, line \u001b[1;32m1\u001b[0m\n\u001b[1;33m    1name=\"mani\"\u001b[0m\n\u001b[1;37m     ^\u001b[0m\n\u001b[1;31mSyntaxError\u001b[0m\u001b[1;31m:\u001b[0m invalid syntax\n"
     ]
    }
   ],
   "source": [
    "1name=\"mani\""
   ]
  },
  {
   "cell_type": "code",
   "execution_count": 30,
   "id": "98bbf467",
   "metadata": {},
   "outputs": [],
   "source": [
    "# snake case is nothing but every word is separated by underscore\n",
    "# example : hello_world"
   ]
  },
  {
   "cell_type": "markdown",
   "id": "b7d17870",
   "metadata": {},
   "source": [
    "### exercise"
   ]
  },
  {
   "cell_type": "code",
   "execution_count": 31,
   "id": "04add792",
   "metadata": {},
   "outputs": [],
   "source": [
    "pi=22/7"
   ]
  },
  {
   "cell_type": "code",
   "execution_count": 32,
   "id": "bdfaced7",
   "metadata": {},
   "outputs": [
    {
     "data": {
      "text/plain": [
       "float"
      ]
     },
     "execution_count": 32,
     "metadata": {},
     "output_type": "execute_result"
    }
   ],
   "source": [
    "type(pi)"
   ]
  },
  {
   "cell_type": "code",
   "execution_count": 33,
   "id": "9fa1fbe3",
   "metadata": {},
   "outputs": [
    {
     "ename": "SyntaxError",
     "evalue": "invalid syntax (<ipython-input-33-7b12443457ee>, line 1)",
     "output_type": "error",
     "traceback": [
      "\u001b[1;36m  File \u001b[1;32m\"<ipython-input-33-7b12443457ee>\"\u001b[1;36m, line \u001b[1;32m1\u001b[0m\n\u001b[1;33m    for = 4\u001b[0m\n\u001b[1;37m        ^\u001b[0m\n\u001b[1;31mSyntaxError\u001b[0m\u001b[1;31m:\u001b[0m invalid syntax\n"
     ]
    }
   ],
   "source": [
    "for = 4"
   ]
  },
  {
   "cell_type": "code",
   "execution_count": 34,
   "id": "69191546",
   "metadata": {},
   "outputs": [],
   "source": [
    "principal_amount=1000\n",
    "rate_of_interest=0.5\n",
    "time=3"
   ]
  },
  {
   "cell_type": "code",
   "execution_count": 36,
   "id": "4f133de5",
   "metadata": {},
   "outputs": [
    {
     "data": {
      "text/plain": [
       "15.0"
      ]
     },
     "execution_count": 36,
     "metadata": {},
     "output_type": "execute_result"
    }
   ],
   "source": [
    "SimpleInterest=(principal_amount*rate_of_interest*time)/100\n",
    "SimpleInterest"
   ]
  },
  {
   "cell_type": "code",
   "execution_count": null,
   "id": "5e53cd12",
   "metadata": {},
   "outputs": [],
   "source": []
  }
 ],
 "metadata": {
  "kernelspec": {
   "display_name": "Python 3",
   "language": "python",
   "name": "python3"
  },
  "language_info": {
   "codemirror_mode": {
    "name": "ipython",
    "version": 3
   },
   "file_extension": ".py",
   "mimetype": "text/x-python",
   "name": "python",
   "nbconvert_exporter": "python",
   "pygments_lexer": "ipython3",
   "version": "3.8.8"
  }
 },
 "nbformat": 4,
 "nbformat_minor": 5
}
