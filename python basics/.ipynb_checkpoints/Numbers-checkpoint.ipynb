{
 "cells": [
  {
   "cell_type": "code",
   "execution_count": 1,
   "id": "86ddb414",
   "metadata": {},
   "outputs": [],
   "source": [
    "base = 10\n",
    "height= 7"
   ]
  },
  {
   "cell_type": "code",
   "execution_count": 2,
   "id": "a7fcd1e1",
   "metadata": {},
   "outputs": [
    {
     "data": {
      "text/plain": [
       "int"
      ]
     },
     "execution_count": 2,
     "metadata": {},
     "output_type": "execute_result"
    }
   ],
   "source": [
    "type(base)"
   ]
  },
  {
   "cell_type": "code",
   "execution_count": 3,
   "id": "304afe9b",
   "metadata": {},
   "outputs": [
    {
     "data": {
      "text/plain": [
       "35.0"
      ]
     },
     "execution_count": 3,
     "metadata": {},
     "output_type": "execute_result"
    }
   ],
   "source": [
    "area = (1/2) * base * height\n",
    "area"
   ]
  },
  {
   "cell_type": "code",
   "execution_count": 4,
   "id": "8cef772f",
   "metadata": {},
   "outputs": [
    {
     "data": {
      "text/plain": [
       "float"
      ]
     },
     "execution_count": 4,
     "metadata": {},
     "output_type": "execute_result"
    }
   ],
   "source": [
    "type(area)"
   ]
  },
  {
   "cell_type": "code",
   "execution_count": 5,
   "id": "1e65f19e",
   "metadata": {},
   "outputs": [
    {
     "data": {
      "text/plain": [
       "3.3333333333333335"
      ]
     },
     "execution_count": 5,
     "metadata": {},
     "output_type": "execute_result"
    }
   ],
   "source": [
    "10/3"
   ]
  },
  {
   "cell_type": "code",
   "execution_count": 6,
   "id": "13336a7e",
   "metadata": {},
   "outputs": [
    {
     "data": {
      "text/plain": [
       "3"
      ]
     },
     "execution_count": 6,
     "metadata": {},
     "output_type": "execute_result"
    }
   ],
   "source": [
    "10//3"
   ]
  },
  {
   "cell_type": "code",
   "execution_count": 7,
   "id": "b37186fd",
   "metadata": {},
   "outputs": [
    {
     "data": {
      "text/plain": [
       "1"
      ]
     },
     "execution_count": 7,
     "metadata": {},
     "output_type": "execute_result"
    }
   ],
   "source": [
    "10%3"
   ]
  },
  {
   "cell_type": "code",
   "execution_count": 8,
   "id": "2c489928",
   "metadata": {},
   "outputs": [
    {
     "data": {
      "text/plain": [
       "9"
      ]
     },
     "execution_count": 8,
     "metadata": {},
     "output_type": "execute_result"
    }
   ],
   "source": [
    "3**2"
   ]
  },
  {
   "cell_type": "code",
   "execution_count": 9,
   "id": "2de2aa62",
   "metadata": {},
   "outputs": [
    {
     "data": {
      "text/plain": [
       "16"
      ]
     },
     "execution_count": 9,
     "metadata": {},
     "output_type": "execute_result"
    }
   ],
   "source": [
    "10+2*3"
   ]
  },
  {
   "cell_type": "code",
   "execution_count": 10,
   "id": "5d3436c3",
   "metadata": {},
   "outputs": [
    {
     "data": {
      "text/plain": [
       "36"
      ]
     },
     "execution_count": 10,
     "metadata": {},
     "output_type": "execute_result"
    }
   ],
   "source": [
    "(10+2)*3"
   ]
  },
  {
   "cell_type": "code",
   "execution_count": 12,
   "id": "7d6abdfa",
   "metadata": {},
   "outputs": [
    {
     "data": {
      "text/plain": [
       "23000.0"
      ]
     },
     "execution_count": 12,
     "metadata": {},
     "output_type": "execute_result"
    }
   ],
   "source": [
    "foo=2.3e4   # 2.3*10**4\n",
    "foo"
   ]
  },
  {
   "cell_type": "code",
   "execution_count": 13,
   "id": "ffbe7c72",
   "metadata": {},
   "outputs": [
    {
     "data": {
      "text/plain": [
       "23000.0"
      ]
     },
     "execution_count": 13,
     "metadata": {},
     "output_type": "execute_result"
    }
   ],
   "source": [
    "2.3*10**4"
   ]
  },
  {
   "cell_type": "code",
   "execution_count": 14,
   "id": "198a6174",
   "metadata": {},
   "outputs": [
    {
     "data": {
      "text/plain": [
       "0.00023"
      ]
     },
     "execution_count": 14,
     "metadata": {},
     "output_type": "execute_result"
    }
   ],
   "source": [
    "2.3e-4"
   ]
  },
  {
   "cell_type": "code",
   "execution_count": 15,
   "id": "51d1f255",
   "metadata": {},
   "outputs": [],
   "source": [
    "food=120.34\n",
    "rent=500.4\n",
    "utilities=200.5"
   ]
  },
  {
   "cell_type": "code",
   "execution_count": 16,
   "id": "9e2268d6",
   "metadata": {},
   "outputs": [
    {
     "data": {
      "text/plain": [
       "821.24"
      ]
     },
     "execution_count": 16,
     "metadata": {},
     "output_type": "execute_result"
    }
   ],
   "source": [
    "total=food+rent+utilities\n",
    "total"
   ]
  },
  {
   "cell_type": "code",
   "execution_count": 17,
   "id": "41eba9cc",
   "metadata": {},
   "outputs": [
    {
     "data": {
      "text/plain": [
       "821"
      ]
     },
     "execution_count": 17,
     "metadata": {},
     "output_type": "execute_result"
    }
   ],
   "source": [
    "round(total)"
   ]
  },
  {
   "cell_type": "code",
   "execution_count": 20,
   "id": "af032621",
   "metadata": {},
   "outputs": [
    {
     "data": {
      "text/plain": [
       "821"
      ]
     },
     "execution_count": 20,
     "metadata": {},
     "output_type": "execute_result"
    }
   ],
   "source": [
    "from math import floor\n",
    "floor(total)"
   ]
  },
  {
   "cell_type": "code",
   "execution_count": 21,
   "id": "768fe2fa",
   "metadata": {},
   "outputs": [
    {
     "data": {
      "text/plain": [
       "1000"
      ]
     },
     "execution_count": 21,
     "metadata": {},
     "output_type": "execute_result"
    }
   ],
   "source": [
    "income=10000\n",
    "expenses=9000\n",
    "savings=income-expenses\n",
    "savings"
   ]
  },
  {
   "cell_type": "code",
   "execution_count": 22,
   "id": "986617de",
   "metadata": {},
   "outputs": [
    {
     "data": {
      "text/plain": [
       "'1213.322242.24'"
      ]
     },
     "execution_count": 22,
     "metadata": {},
     "output_type": "execute_result"
    }
   ],
   "source": [
    "food=\"1213.32\"\n",
    "rent=\"2242.24\"\n",
    "total=food+rent\n",
    "total"
   ]
  },
  {
   "cell_type": "code",
   "execution_count": 29,
   "id": "44a5b545",
   "metadata": {},
   "outputs": [
    {
     "data": {
      "text/plain": [
       "complex"
      ]
     },
     "execution_count": 29,
     "metadata": {},
     "output_type": "execute_result"
    }
   ],
   "source": [
    "complex_=3j+4\n",
    "type(complex_)"
   ]
  },
  {
   "cell_type": "code",
   "execution_count": 30,
   "id": "fd93d4d9",
   "metadata": {},
   "outputs": [
    {
     "name": "stdout",
     "output_type": "stream",
     "text": [
      "(4+3j)\n"
     ]
    }
   ],
   "source": [
    "print(complex_)"
   ]
  },
  {
   "cell_type": "markdown",
   "id": "0ec455cc",
   "metadata": {},
   "source": [
    "### Binary Representation Of Integers"
   ]
  },
  {
   "cell_type": "code",
   "execution_count": 31,
   "id": "f0d40339",
   "metadata": {},
   "outputs": [
    {
     "data": {
      "text/plain": [
       "'101'"
      ]
     },
     "execution_count": 31,
     "metadata": {},
     "output_type": "execute_result"
    }
   ],
   "source": [
    "format(5,'b')"
   ]
  },
  {
   "cell_type": "code",
   "execution_count": 32,
   "id": "8306590b",
   "metadata": {},
   "outputs": [
    {
     "data": {
      "text/plain": [
       "'5'"
      ]
     },
     "execution_count": 32,
     "metadata": {},
     "output_type": "execute_result"
    }
   ],
   "source": [
    "format(5,'d')"
   ]
  },
  {
   "cell_type": "code",
   "execution_count": 33,
   "id": "8c55dca6",
   "metadata": {},
   "outputs": [
    {
     "data": {
      "text/plain": [
       "'f'"
      ]
     },
     "execution_count": 33,
     "metadata": {},
     "output_type": "execute_result"
    }
   ],
   "source": [
    "format(15,'0x')  # hexa decimal number"
   ]
  },
  {
   "cell_type": "code",
   "execution_count": 34,
   "id": "4f8b1290",
   "metadata": {},
   "outputs": [
    {
     "data": {
      "text/plain": [
       "'17'"
      ]
     },
     "execution_count": 34,
     "metadata": {},
     "output_type": "execute_result"
    }
   ],
   "source": [
    "format(15,'0o') # octal number"
   ]
  },
  {
   "cell_type": "markdown",
   "id": "5068dd82",
   "metadata": {},
   "source": [
    "### exercise"
   ]
  },
  {
   "cell_type": "code",
   "execution_count": 35,
   "id": "f8044c43",
   "metadata": {},
   "outputs": [
    {
     "data": {
      "text/plain": [
       "'221'"
      ]
     },
     "execution_count": 35,
     "metadata": {},
     "output_type": "execute_result"
    }
   ],
   "source": [
    "format(145,'o')  # octal number"
   ]
  },
  {
   "cell_type": "code",
   "execution_count": 36,
   "id": "05d42967",
   "metadata": {},
   "outputs": [
    {
     "data": {
      "text/plain": [
       "'17'"
      ]
     },
     "execution_count": 36,
     "metadata": {},
     "output_type": "execute_result"
    }
   ],
   "source": [
    "format(15,'o')"
   ]
  },
  {
   "cell_type": "code",
   "execution_count": 39,
   "id": "00ef52d4",
   "metadata": {},
   "outputs": [
    {
     "data": {
      "text/plain": [
       "'7'"
      ]
     },
     "execution_count": 39,
     "metadata": {},
     "output_type": "execute_result"
    }
   ],
   "source": [
    "format(7,'o')"
   ]
  },
  {
   "cell_type": "code",
   "execution_count": 40,
   "id": "7502815d",
   "metadata": {},
   "outputs": [
    {
     "data": {
      "text/plain": [
       "'10'"
      ]
     },
     "execution_count": 40,
     "metadata": {},
     "output_type": "execute_result"
    }
   ],
   "source": [
    "format(8,'o')"
   ]
  },
  {
   "cell_type": "code",
   "execution_count": 43,
   "id": "7877f866",
   "metadata": {},
   "outputs": [],
   "source": [
    "radius = 84\n",
    "area=22/7*radius**2"
   ]
  },
  {
   "cell_type": "code",
   "execution_count": 44,
   "id": "60c08459",
   "metadata": {},
   "outputs": [
    {
     "data": {
      "text/plain": [
       "22176.0"
      ]
     },
     "execution_count": 44,
     "metadata": {},
     "output_type": "execute_result"
    }
   ],
   "source": [
    "area"
   ]
  },
  {
   "cell_type": "code",
   "execution_count": 45,
   "id": "3c3086b9",
   "metadata": {},
   "outputs": [],
   "source": [
    "water_per_meter_square=1.4"
   ]
  },
  {
   "cell_type": "code",
   "execution_count": 48,
   "id": "e980c83c",
   "metadata": {},
   "outputs": [
    {
     "name": "stdout",
     "output_type": "stream",
     "text": [
      "31046.399999999998\n"
     ]
    }
   ],
   "source": [
    "total_amount_of_water=area*water_per_meter_square\n",
    "print(total_amount_of_water)"
   ]
  },
  {
   "cell_type": "code",
   "execution_count": 51,
   "id": "ef945819",
   "metadata": {},
   "outputs": [
    {
     "data": {
      "text/plain": [
       "31046"
      ]
     },
     "execution_count": 51,
     "metadata": {},
     "output_type": "execute_result"
    }
   ],
   "source": [
    "round(total_amount_of_water)"
   ]
  },
  {
   "cell_type": "code",
   "execution_count": 52,
   "id": "de7819dc",
   "metadata": {},
   "outputs": [],
   "source": [
    "total_length_of_street=490\n",
    "time_taken=7*60"
   ]
  },
  {
   "cell_type": "code",
   "execution_count": 56,
   "id": "97040259",
   "metadata": {},
   "outputs": [
    {
     "name": "stdout",
     "output_type": "stream",
     "text": [
      "1\n"
     ]
    }
   ],
   "source": [
    "speed=total_length_of_street/time_taken\n",
    "print(round(speed))"
   ]
  },
  {
   "cell_type": "code",
   "execution_count": null,
   "id": "a9d2e0f7",
   "metadata": {},
   "outputs": [],
   "source": []
  }
 ],
 "metadata": {
  "kernelspec": {
   "display_name": "Python 3",
   "language": "python",
   "name": "python3"
  },
  "language_info": {
   "codemirror_mode": {
    "name": "ipython",
    "version": 3
   },
   "file_extension": ".py",
   "mimetype": "text/x-python",
   "name": "python",
   "nbconvert_exporter": "python",
   "pygments_lexer": "ipython3",
   "version": "3.8.8"
  }
 },
 "nbformat": 4,
 "nbformat_minor": 5
}
