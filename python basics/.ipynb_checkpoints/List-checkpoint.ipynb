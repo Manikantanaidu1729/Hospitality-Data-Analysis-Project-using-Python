{
 "cells": [
  {
   "cell_type": "code",
   "execution_count": 1,
   "id": "b2c1c499",
   "metadata": {
    "scrolled": true
   },
   "outputs": [
    {
     "data": {
      "text/plain": [
       "['__add__',\n",
       " '__class__',\n",
       " '__contains__',\n",
       " '__delattr__',\n",
       " '__delitem__',\n",
       " '__dir__',\n",
       " '__doc__',\n",
       " '__eq__',\n",
       " '__format__',\n",
       " '__ge__',\n",
       " '__getattribute__',\n",
       " '__getitem__',\n",
       " '__gt__',\n",
       " '__hash__',\n",
       " '__iadd__',\n",
       " '__imul__',\n",
       " '__init__',\n",
       " '__init_subclass__',\n",
       " '__iter__',\n",
       " '__le__',\n",
       " '__len__',\n",
       " '__lt__',\n",
       " '__mul__',\n",
       " '__ne__',\n",
       " '__new__',\n",
       " '__reduce__',\n",
       " '__reduce_ex__',\n",
       " '__repr__',\n",
       " '__reversed__',\n",
       " '__rmul__',\n",
       " '__setattr__',\n",
       " '__setitem__',\n",
       " '__sizeof__',\n",
       " '__str__',\n",
       " '__subclasshook__',\n",
       " 'append',\n",
       " 'clear',\n",
       " 'copy',\n",
       " 'count',\n",
       " 'extend',\n",
       " 'index',\n",
       " 'insert',\n",
       " 'pop',\n",
       " 'remove',\n",
       " 'reverse',\n",
       " 'sort']"
      ]
     },
     "execution_count": 1,
     "metadata": {},
     "output_type": "execute_result"
    }
   ],
   "source": [
    "dir(list())"
   ]
  },
  {
   "cell_type": "code",
   "execution_count": 21,
   "id": "6a2363cf",
   "metadata": {},
   "outputs": [],
   "source": [
    "item1=\"bread\"\n",
    "item2=\"pasta\"\n",
    "item3=\"cheese\"\n",
    "item4=\"veggies\""
   ]
  },
  {
   "cell_type": "code",
   "execution_count": 22,
   "id": "2ba3b1f8",
   "metadata": {},
   "outputs": [],
   "source": [
    "items=[item1,item2,item3,item4]"
   ]
  },
  {
   "cell_type": "code",
   "execution_count": 23,
   "id": "a8a24a52",
   "metadata": {},
   "outputs": [
    {
     "data": {
      "text/plain": [
       "['bread', 'pasta', 'cheese', 'veggies']"
      ]
     },
     "execution_count": 23,
     "metadata": {},
     "output_type": "execute_result"
    }
   ],
   "source": [
    "items"
   ]
  },
  {
   "cell_type": "code",
   "execution_count": 24,
   "id": "80f79317",
   "metadata": {},
   "outputs": [
    {
     "data": {
      "text/plain": [
       "'bread'"
      ]
     },
     "execution_count": 24,
     "metadata": {},
     "output_type": "execute_result"
    }
   ],
   "source": [
    "items[0]"
   ]
  },
  {
   "cell_type": "code",
   "execution_count": 25,
   "id": "8cb19a04",
   "metadata": {},
   "outputs": [
    {
     "ename": "IndexError",
     "evalue": "list index out of range",
     "output_type": "error",
     "traceback": [
      "\u001b[1;31m---------------------------------------------------------------------------\u001b[0m",
      "\u001b[1;31mIndexError\u001b[0m                                Traceback (most recent call last)",
      "\u001b[1;32m<ipython-input-25-63efa5076c00>\u001b[0m in \u001b[0;36m<module>\u001b[1;34m\u001b[0m\n\u001b[1;32m----> 1\u001b[1;33m \u001b[0mitems\u001b[0m\u001b[1;33m[\u001b[0m\u001b[1;36m5\u001b[0m\u001b[1;33m]\u001b[0m\u001b[1;33m\u001b[0m\u001b[1;33m\u001b[0m\u001b[0m\n\u001b[0m",
      "\u001b[1;31mIndexError\u001b[0m: list index out of range"
     ]
    }
   ],
   "source": [
    "items[5]"
   ]
  },
  {
   "cell_type": "code",
   "execution_count": 26,
   "id": "8b78fc45",
   "metadata": {},
   "outputs": [
    {
     "data": {
      "text/plain": [
       "['bread', 'pasta', 'cheese', 'veggies']"
      ]
     },
     "execution_count": 26,
     "metadata": {},
     "output_type": "execute_result"
    }
   ],
   "source": [
    "items[0:5]"
   ]
  },
  {
   "cell_type": "code",
   "execution_count": 27,
   "id": "8693c321",
   "metadata": {},
   "outputs": [],
   "source": [
    "items.append(\"butter\")"
   ]
  },
  {
   "cell_type": "code",
   "execution_count": 28,
   "id": "3715fb55",
   "metadata": {},
   "outputs": [
    {
     "data": {
      "text/plain": [
       "['bread', 'pasta', 'cheese', 'veggies', 'butter']"
      ]
     },
     "execution_count": 28,
     "metadata": {},
     "output_type": "execute_result"
    }
   ],
   "source": [
    "items"
   ]
  },
  {
   "cell_type": "code",
   "execution_count": 29,
   "id": "159c116e",
   "metadata": {},
   "outputs": [],
   "source": [
    "items.insert(1,\"fruits\")"
   ]
  },
  {
   "cell_type": "code",
   "execution_count": 30,
   "id": "53f24d07",
   "metadata": {},
   "outputs": [
    {
     "data": {
      "text/plain": [
       "['bread', 'fruits', 'pasta', 'cheese', 'veggies', 'butter']"
      ]
     },
     "execution_count": 30,
     "metadata": {},
     "output_type": "execute_result"
    }
   ],
   "source": [
    "items"
   ]
  },
  {
   "cell_type": "code",
   "execution_count": 31,
   "id": "ae48f03c",
   "metadata": {},
   "outputs": [],
   "source": [
    "items.remove(\"pasta\")"
   ]
  },
  {
   "cell_type": "code",
   "execution_count": 32,
   "id": "372f948b",
   "metadata": {},
   "outputs": [
    {
     "data": {
      "text/plain": [
       "['bread', 'fruits', 'cheese', 'veggies', 'butter']"
      ]
     },
     "execution_count": 32,
     "metadata": {},
     "output_type": "execute_result"
    }
   ],
   "source": [
    "items"
   ]
  },
  {
   "cell_type": "code",
   "execution_count": 33,
   "id": "5ff372ef",
   "metadata": {},
   "outputs": [
    {
     "data": {
      "text/plain": [
       "'butter'"
      ]
     },
     "execution_count": 33,
     "metadata": {},
     "output_type": "execute_result"
    }
   ],
   "source": [
    "items.pop()"
   ]
  },
  {
   "cell_type": "code",
   "execution_count": 34,
   "id": "fa8fe984",
   "metadata": {},
   "outputs": [
    {
     "data": {
      "text/plain": [
       "['bread', 'fruits', 'cheese', 'veggies']"
      ]
     },
     "execution_count": 34,
     "metadata": {},
     "output_type": "execute_result"
    }
   ],
   "source": [
    "items"
   ]
  },
  {
   "cell_type": "code",
   "execution_count": 38,
   "id": "e271d9e1",
   "metadata": {},
   "outputs": [],
   "source": [
    "items.sort()"
   ]
  },
  {
   "cell_type": "code",
   "execution_count": 39,
   "id": "45453e0c",
   "metadata": {},
   "outputs": [
    {
     "data": {
      "text/plain": [
       "['bread', 'cheese', 'fruits', 'veggies']"
      ]
     },
     "execution_count": 39,
     "metadata": {},
     "output_type": "execute_result"
    }
   ],
   "source": [
    "items"
   ]
  },
  {
   "cell_type": "code",
   "execution_count": 40,
   "id": "c3003cd5",
   "metadata": {},
   "outputs": [],
   "source": [
    "items.reverse()"
   ]
  },
  {
   "cell_type": "code",
   "execution_count": 41,
   "id": "31773da9",
   "metadata": {},
   "outputs": [
    {
     "data": {
      "text/plain": [
       "['veggies', 'fruits', 'cheese', 'bread']"
      ]
     },
     "execution_count": 41,
     "metadata": {},
     "output_type": "execute_result"
    }
   ],
   "source": [
    "items"
   ]
  },
  {
   "cell_type": "code",
   "execution_count": 42,
   "id": "32318173",
   "metadata": {},
   "outputs": [
    {
     "data": {
      "text/plain": [
       "True"
      ]
     },
     "execution_count": 42,
     "metadata": {},
     "output_type": "execute_result"
    }
   ],
   "source": [
    "\"rice\" not in items"
   ]
  },
  {
   "cell_type": "code",
   "execution_count": 43,
   "id": "52769fa4",
   "metadata": {},
   "outputs": [
    {
     "data": {
      "text/plain": [
       "[30, 1200, 45, 300]"
      ]
     },
     "execution_count": 43,
     "metadata": {},
     "output_type": "execute_result"
    }
   ],
   "source": [
    "expenses=[30,1200,45,300]\n",
    "expenses"
   ]
  },
  {
   "cell_type": "code",
   "execution_count": 44,
   "id": "08c35c88",
   "metadata": {},
   "outputs": [
    {
     "data": {
      "text/plain": [
       "[30, 45, 300, 1200]"
      ]
     },
     "execution_count": 44,
     "metadata": {},
     "output_type": "execute_result"
    }
   ],
   "source": [
    "expenses.sort()\n",
    "expenses"
   ]
  },
  {
   "cell_type": "code",
   "execution_count": 45,
   "id": "bdbcf8fb",
   "metadata": {},
   "outputs": [
    {
     "data": {
      "text/plain": [
       "[1200, 300, 45, 30]"
      ]
     },
     "execution_count": 45,
     "metadata": {},
     "output_type": "execute_result"
    }
   ],
   "source": [
    "expenses.sort(reverse=True)\n",
    "expenses"
   ]
  },
  {
   "cell_type": "code",
   "execution_count": 48,
   "id": "895b9279",
   "metadata": {},
   "outputs": [
    {
     "name": "stdout",
     "output_type": "stream",
     "text": [
      "['bread', 'pasta', 'fruits', 'shampoo', 'soap']\n"
     ]
    }
   ],
   "source": [
    "food_items=[\"bread\",\"pasta\",\"fruits\"]\n",
    "bathroom_items=[\"shampoo\",\"soap\"]\n",
    "print(food_items+bathroom_items)"
   ]
  },
  {
   "cell_type": "code",
   "execution_count": 49,
   "id": "659ffbde",
   "metadata": {},
   "outputs": [
    {
     "data": {
      "text/plain": [
       "['car', 4.5, True]"
      ]
     },
     "execution_count": 49,
     "metadata": {},
     "output_type": "execute_result"
    }
   ],
   "source": [
    "random=[\"car\",4.5,True]\n",
    "random"
   ]
  },
  {
   "cell_type": "code",
   "execution_count": 51,
   "id": "125535a2",
   "metadata": {},
   "outputs": [
    {
     "data": {
      "text/plain": [
       "['bread', 'pasta', 'fruits']"
      ]
     },
     "execution_count": 51,
     "metadata": {},
     "output_type": "execute_result"
    }
   ],
   "source": [
    "food_items"
   ]
  },
  {
   "cell_type": "code",
   "execution_count": 52,
   "id": "59e2a655",
   "metadata": {},
   "outputs": [
    {
     "data": {
      "text/plain": [
       "['veggies', 'fruits', 'cheese', 'bread']"
      ]
     },
     "execution_count": 52,
     "metadata": {},
     "output_type": "execute_result"
    }
   ],
   "source": [
    "items"
   ]
  },
  {
   "cell_type": "code",
   "execution_count": 53,
   "id": "dd1895b2",
   "metadata": {},
   "outputs": [
    {
     "data": {
      "text/plain": [
       "['fruits', 'cheese', 'bread']"
      ]
     },
     "execution_count": 53,
     "metadata": {},
     "output_type": "execute_result"
    }
   ],
   "source": [
    "items[-3:]"
   ]
  },
  {
   "cell_type": "markdown",
   "id": "91f74a43",
   "metadata": {},
   "source": [
    "### exercise"
   ]
  },
  {
   "cell_type": "code",
   "execution_count": 67,
   "id": "6ab1d9ae",
   "metadata": {},
   "outputs": [],
   "source": [
    "avengers  = [\"Iron Man\", \"Captain America\", \"Black Widow\", \"Hulk\", \"Thor\", \"Hawkeye\"]"
   ]
  },
  {
   "cell_type": "code",
   "execution_count": 68,
   "id": "ce5c7a50",
   "metadata": {},
   "outputs": [
    {
     "data": {
      "text/plain": [
       "6"
      ]
     },
     "execution_count": 68,
     "metadata": {},
     "output_type": "execute_result"
    }
   ],
   "source": [
    "len(avengers)"
   ]
  },
  {
   "cell_type": "code",
   "execution_count": 69,
   "id": "0cf66e32",
   "metadata": {},
   "outputs": [],
   "source": [
    "avengers.append(\"Spider-Man\")"
   ]
  },
  {
   "cell_type": "code",
   "execution_count": 70,
   "id": "cb970d3b",
   "metadata": {},
   "outputs": [
    {
     "data": {
      "text/plain": [
       "['Iron Man',\n",
       " 'Captain America',\n",
       " 'Black Widow',\n",
       " 'Hulk',\n",
       " 'Thor',\n",
       " 'Hawkeye',\n",
       " 'Spider-Man']"
      ]
     },
     "execution_count": 70,
     "metadata": {},
     "output_type": "execute_result"
    }
   ],
   "source": [
    "avengers"
   ]
  },
  {
   "cell_type": "code",
   "execution_count": 71,
   "id": "f7e97a2a",
   "metadata": {},
   "outputs": [],
   "source": [
    "avengers.remove(\"Captain America\")"
   ]
  },
  {
   "cell_type": "code",
   "execution_count": 72,
   "id": "883b309f",
   "metadata": {},
   "outputs": [],
   "source": [
    "avengers.insert(0,\"Captain America\")"
   ]
  },
  {
   "cell_type": "code",
   "execution_count": 73,
   "id": "163b904d",
   "metadata": {},
   "outputs": [
    {
     "data": {
      "text/plain": [
       "['Captain America',\n",
       " 'Iron Man',\n",
       " 'Black Widow',\n",
       " 'Hulk',\n",
       " 'Thor',\n",
       " 'Hawkeye',\n",
       " 'Spider-Man']"
      ]
     },
     "execution_count": 73,
     "metadata": {},
     "output_type": "execute_result"
    }
   ],
   "source": [
    "avengers"
   ]
  },
  {
   "cell_type": "code",
   "execution_count": 74,
   "id": "0f62b215",
   "metadata": {},
   "outputs": [],
   "source": [
    "avengers.remove(\"Black Widow\")"
   ]
  },
  {
   "cell_type": "code",
   "execution_count": 75,
   "id": "6ade316c",
   "metadata": {},
   "outputs": [],
   "source": [
    "avengers.insert(3,\"Black Widow\")"
   ]
  },
  {
   "cell_type": "code",
   "execution_count": 76,
   "id": "7e9afd40",
   "metadata": {},
   "outputs": [
    {
     "data": {
      "text/plain": [
       "['Captain America',\n",
       " 'Iron Man',\n",
       " 'Hulk',\n",
       " 'Black Widow',\n",
       " 'Thor',\n",
       " 'Hawkeye',\n",
       " 'Spider-Man']"
      ]
     },
     "execution_count": 76,
     "metadata": {},
     "output_type": "execute_result"
    }
   ],
   "source": [
    "avengers"
   ]
  },
  {
   "cell_type": "code",
   "execution_count": 78,
   "id": "c94b99f2",
   "metadata": {},
   "outputs": [
    {
     "data": {
      "text/plain": [
       "'Spider-Man'"
      ]
     },
     "execution_count": 78,
     "metadata": {},
     "output_type": "execute_result"
    }
   ],
   "source": [
    "avengers.pop()"
   ]
  },
  {
   "cell_type": "code",
   "execution_count": 79,
   "id": "103ab57b",
   "metadata": {},
   "outputs": [],
   "source": [
    "avengers.clear()"
   ]
  },
  {
   "cell_type": "code",
   "execution_count": 80,
   "id": "bbc34e4b",
   "metadata": {},
   "outputs": [
    {
     "data": {
      "text/plain": [
       "[]"
      ]
     },
     "execution_count": 80,
     "metadata": {},
     "output_type": "execute_result"
    }
   ],
   "source": [
    "avengers"
   ]
  },
  {
   "cell_type": "code",
   "execution_count": 81,
   "id": "9ab4d77e",
   "metadata": {},
   "outputs": [],
   "source": [
    "avengers.append(\"Spider-Man\")"
   ]
  },
  {
   "cell_type": "code",
   "execution_count": 83,
   "id": "2314b6ce",
   "metadata": {},
   "outputs": [],
   "source": [
    "avengers.extend([\"Doctor Strange\", \"Vision\", \"Wanda\", \"Kate Bishop\", \"Ant-Man\"])"
   ]
  },
  {
   "cell_type": "code",
   "execution_count": 84,
   "id": "18d38a93",
   "metadata": {},
   "outputs": [
    {
     "data": {
      "text/plain": [
       "['Spider-Man', 'Doctor Strange', 'Vision', 'Wanda', 'Kate Bishop', 'Ant-Man']"
      ]
     },
     "execution_count": 84,
     "metadata": {},
     "output_type": "execute_result"
    }
   ],
   "source": [
    "avengers"
   ]
  },
  {
   "cell_type": "code",
   "execution_count": 85,
   "id": "7c6403ad",
   "metadata": {},
   "outputs": [],
   "source": [
    "avengers.sort()"
   ]
  },
  {
   "cell_type": "code",
   "execution_count": 86,
   "id": "3bea3fc7",
   "metadata": {},
   "outputs": [
    {
     "data": {
      "text/plain": [
       "['Ant-Man', 'Doctor Strange', 'Kate Bishop', 'Spider-Man', 'Vision', 'Wanda']"
      ]
     },
     "execution_count": 86,
     "metadata": {},
     "output_type": "execute_result"
    }
   ],
   "source": [
    "avengers"
   ]
  },
  {
   "cell_type": "code",
   "execution_count": 87,
   "id": "850ec0e3",
   "metadata": {},
   "outputs": [
    {
     "data": {
      "text/plain": [
       "'Ant-Man'"
      ]
     },
     "execution_count": 87,
     "metadata": {},
     "output_type": "execute_result"
    }
   ],
   "source": [
    "avengers[0]"
   ]
  },
  {
   "cell_type": "code",
   "execution_count": null,
   "id": "1d672f4a",
   "metadata": {},
   "outputs": [],
   "source": []
  }
 ],
 "metadata": {
  "kernelspec": {
   "display_name": "Python 3",
   "language": "python",
   "name": "python3"
  },
  "language_info": {
   "codemirror_mode": {
    "name": "ipython",
    "version": 3
   },
   "file_extension": ".py",
   "mimetype": "text/x-python",
   "name": "python",
   "nbconvert_exporter": "python",
   "pygments_lexer": "ipython3",
   "version": "3.8.8"
  }
 },
 "nbformat": 4,
 "nbformat_minor": 5
}
