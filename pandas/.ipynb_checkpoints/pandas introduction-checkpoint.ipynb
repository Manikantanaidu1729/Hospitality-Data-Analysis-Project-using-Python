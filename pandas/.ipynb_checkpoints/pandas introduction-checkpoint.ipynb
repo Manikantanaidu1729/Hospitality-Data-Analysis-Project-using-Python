{
 "cells": [
  {
   "cell_type": "code",
   "execution_count": 21,
   "id": "4aa70de4",
   "metadata": {
    "scrolled": true
   },
   "outputs": [
    {
     "name": "stdout",
     "output_type": "stream",
     "text": [
      "[['title', 'industry', 'release_year', 'imdb_rating', 'studio', 'budget', 'revenue', 'unit', 'currency', 'language'], ['Pather Panchali', 'Bollywood', '1955', '8.3', 'Government of West Bengal', '70000', '100000', 'Thousands', 'INR', 'Bengali'], ['Doctor Strange in the Multiverse of Madness', 'Hollywood', '2022', '7', 'Marvel Studios', '200', '954.8', 'Millions', 'USD', 'English'], ['Thor: The Dark World ', 'Hollywood', '2013', '6.8', 'Marvel Studios', '165', '644.8', 'Millions', 'USD', 'English'], ['Thor: Ragnarok ', 'Hollywood', '2017', '7.9', 'Marvel Studios', '180', '854', 'Millions', 'USD', 'English'], ['Thor: Love and Thunder ', 'Hollywood', '2022', '6.8', 'Marvel Studios', '250', '670', 'Millions', 'USD', 'English'], ['The Shawshank Redemption', 'Hollywood', '1994', '9.3', 'Castle Rock Entertainment', '25', '73.3', 'Millions', 'USD', 'English'], ['Interstellar', 'Hollywood', '2014', '8.6', 'Warner Bros. Pictures', '165', '701.8', 'Millions', 'USD', 'English'], ['The Pursuit of Happyness', 'Hollywood', '2006', '8', 'Columbia Pictures', '55', '307.1', 'Millions', 'USD', 'English'], ['Gladiator', 'Hollywood', '2000', '8.5', 'Universal Pictures  ', '103', '460.5', 'Millions', 'USD', 'English'], ['Titanic', 'Hollywood', '1997', '7.9', 'Paramount Pictures', '200', '2202', 'Millions', 'USD', 'English'], [\"It's a Wonderful Life\", 'Hollywood', '1946', '8.6', 'Liberty Films', '3.18', '3.3', 'Millions', 'USD', 'English'], ['Avatar', 'Hollywood', '2009', '7.8', '20th Century Fox', '237', '2847', 'Millions', 'USD', 'English'], ['The Godfather', 'Hollywood', '1972', '9.2', 'Paramount Pictures', '7.2', '291', 'Millions', 'USD', 'English'], ['The Dark Knight', 'Hollywood', '2008', '9', 'Syncopy', '185', '1006', 'Millions', 'USD', 'English'], [\"Schindler's List\", 'Hollywood', '1993', '9', 'Universal Pictures', '22', '322.2', 'Millions', 'USD', 'English'], ['Jurassic Park', 'Hollywood', '1993', '8.2', 'Universal Pictures', '63', '1046', 'Millions', 'USD', 'English'], ['Parasite', 'Hollywood', '2019', '8.5', '', '15.5', '263.1', 'Millions', 'USD', 'English'], ['Avengers: Endgame', 'Hollywood', '2019', '8.4', 'Marvel Studios', '400', '2798', 'Millions', 'USD', 'English'], ['Avengers: Infinity War', 'Hollywood', '2018', '8.4', 'Marvel Studios', '400', '2048', 'Millions', 'USD', 'English'], ['Captain America: The First Avenger', 'Hollywood', '2011', '6.9', 'Marvel Studios', '216.7', '370.6', 'Millions', 'USD', 'English'], ['Captain America: The Winter Soldier', 'Hollywood', '2014', '7.8', 'Marvel Studios', '177', '714.4', 'Millions', 'USD', 'English'], ['Dilwale Dulhania Le Jayenge', 'Bollywood', '1995', '8', 'Yash Raj Films', '400', '2000', 'Millions', 'INR', 'Hindi'], ['3 Idiots', 'Bollywood', '2009', '8.4', 'Vinod Chopra Films', '550', '4000', 'Millions', 'INR', 'Hindi'], ['Kabhi Khushi Kabhie Gham', 'Bollywood', '2001', '7.4', 'Dharma Productions', '390', '1360', 'Millions', 'INR', 'Hindi'], ['Bajirao Mastani ', 'Bollywood', '2015', '7.2', '', '1.4', '3.5', 'Billions', 'INR', 'Hindi'], ['Taare Zameen Par', 'Bollywood', '2007', '8.3', '', '120', '1350', 'Millions', 'INR', 'Hindi'], ['Munna Bhai M.B.B.S.', 'Bollywood', '2003', '8.1', 'Vinod Chopra Productions', '100', '410', 'Millions', 'INR', 'Hindi'], ['PK', 'Bollywood', '2014', '8.1', 'Vinod Chopra Films', '850', '8540', 'Millions', 'INR', 'Hindi'], ['Sanju', 'Bollywood', '2018', 'NULL', 'Vinod Chopra Films', '1', '5.9', 'Billions', 'INR', 'Hindi'], ['The Kashmir Files', 'Bollywood', '2022', '8.3', 'Zee Studios', '250', '3409', 'Millions', 'INR', 'Hindi'], ['Bajrangi Bhaijaan', 'Bollywood', '2015', '8.1', 'Salman Khan Films', '900', '11690', 'Millions', 'INR', 'Hindi'], ['Race 3', 'Bollywood', '2018', '1.9', 'Salman Khan Films', '1.8', '3.1', 'Billions', 'INR', 'Hindi'], ['Shershaah', 'Bollywood', '2021', '8.4', 'Dharma Productions', '500', '950', 'Millions', 'INR', 'Hindi'], ['K.G.F: Chapter 2', 'Bollywood', '2022', '8.4', 'Hombale Films', '1', '12.5', 'Billions', 'INR', 'Kannada'], ['Pushpa: The Rise - Part 1', 'Bollywood', '2021', '7.6', 'Mythri Movie Makers', '2', '3.6', 'Billions', 'INR', 'Telugu'], ['RRR', 'Bollywood', '2022', '8', 'DVV Entertainment', '5.5', '12', 'Billions', 'INR', 'Telugu'], ['Baahubali: The Beginning', 'Bollywood', '2015', '8', 'Arka Media Works', '1.8', '6.5', 'Billions', 'INR', 'Telugu']]\n"
     ]
    }
   ],
   "source": [
    "import csv\n",
    "\n",
    "with open(\"movies.csv\") as f:\n",
    "    data = list(csv.reader(f))\n",
    "    print(data)"
   ]
  },
  {
   "cell_type": "code",
   "execution_count": 22,
   "id": "384ed209",
   "metadata": {},
   "outputs": [
    {
     "name": "stdout",
     "output_type": "stream",
     "text": [
      "['title', 'industry', 'release_year', 'imdb_rating', 'studio', 'budget', 'revenue', 'unit', 'currency', 'language']\n"
     ]
    }
   ],
   "source": [
    "print(data[0])"
   ]
  },
  {
   "cell_type": "code",
   "execution_count": 23,
   "id": "750b328a",
   "metadata": {
    "scrolled": true
   },
   "outputs": [
    {
     "name": "stdout",
     "output_type": "stream",
     "text": [
      "[['Pather Panchali', 'Bollywood', '1955', '8.3', 'Government of West Bengal', '70000', '100000', 'Thousands', 'INR', 'Bengali'], ['Doctor Strange in the Multiverse of Madness', 'Hollywood', '2022', '7', 'Marvel Studios', '200', '954.8', 'Millions', 'USD', 'English'], ['Thor: The Dark World ', 'Hollywood', '2013', '6.8', 'Marvel Studios', '165', '644.8', 'Millions', 'USD', 'English'], ['Thor: Ragnarok ', 'Hollywood', '2017', '7.9', 'Marvel Studios', '180', '854', 'Millions', 'USD', 'English'], ['Thor: Love and Thunder ', 'Hollywood', '2022', '6.8', 'Marvel Studios', '250', '670', 'Millions', 'USD', 'English'], ['The Shawshank Redemption', 'Hollywood', '1994', '9.3', 'Castle Rock Entertainment', '25', '73.3', 'Millions', 'USD', 'English'], ['Interstellar', 'Hollywood', '2014', '8.6', 'Warner Bros. Pictures', '165', '701.8', 'Millions', 'USD', 'English'], ['The Pursuit of Happyness', 'Hollywood', '2006', '8', 'Columbia Pictures', '55', '307.1', 'Millions', 'USD', 'English'], ['Gladiator', 'Hollywood', '2000', '8.5', 'Universal Pictures  ', '103', '460.5', 'Millions', 'USD', 'English'], ['Titanic', 'Hollywood', '1997', '7.9', 'Paramount Pictures', '200', '2202', 'Millions', 'USD', 'English'], [\"It's a Wonderful Life\", 'Hollywood', '1946', '8.6', 'Liberty Films', '3.18', '3.3', 'Millions', 'USD', 'English'], ['Avatar', 'Hollywood', '2009', '7.8', '20th Century Fox', '237', '2847', 'Millions', 'USD', 'English'], ['The Godfather', 'Hollywood', '1972', '9.2', 'Paramount Pictures', '7.2', '291', 'Millions', 'USD', 'English'], ['The Dark Knight', 'Hollywood', '2008', '9', 'Syncopy', '185', '1006', 'Millions', 'USD', 'English'], [\"Schindler's List\", 'Hollywood', '1993', '9', 'Universal Pictures', '22', '322.2', 'Millions', 'USD', 'English'], ['Jurassic Park', 'Hollywood', '1993', '8.2', 'Universal Pictures', '63', '1046', 'Millions', 'USD', 'English'], ['Parasite', 'Hollywood', '2019', '8.5', '', '15.5', '263.1', 'Millions', 'USD', 'English'], ['Avengers: Endgame', 'Hollywood', '2019', '8.4', 'Marvel Studios', '400', '2798', 'Millions', 'USD', 'English'], ['Avengers: Infinity War', 'Hollywood', '2018', '8.4', 'Marvel Studios', '400', '2048', 'Millions', 'USD', 'English'], ['Captain America: The First Avenger', 'Hollywood', '2011', '6.9', 'Marvel Studios', '216.7', '370.6', 'Millions', 'USD', 'English'], ['Captain America: The Winter Soldier', 'Hollywood', '2014', '7.8', 'Marvel Studios', '177', '714.4', 'Millions', 'USD', 'English'], ['Dilwale Dulhania Le Jayenge', 'Bollywood', '1995', '8', 'Yash Raj Films', '400', '2000', 'Millions', 'INR', 'Hindi'], ['3 Idiots', 'Bollywood', '2009', '8.4', 'Vinod Chopra Films', '550', '4000', 'Millions', 'INR', 'Hindi'], ['Kabhi Khushi Kabhie Gham', 'Bollywood', '2001', '7.4', 'Dharma Productions', '390', '1360', 'Millions', 'INR', 'Hindi'], ['Bajirao Mastani ', 'Bollywood', '2015', '7.2', '', '1.4', '3.5', 'Billions', 'INR', 'Hindi'], ['Taare Zameen Par', 'Bollywood', '2007', '8.3', '', '120', '1350', 'Millions', 'INR', 'Hindi'], ['Munna Bhai M.B.B.S.', 'Bollywood', '2003', '8.1', 'Vinod Chopra Productions', '100', '410', 'Millions', 'INR', 'Hindi'], ['PK', 'Bollywood', '2014', '8.1', 'Vinod Chopra Films', '850', '8540', 'Millions', 'INR', 'Hindi'], ['Sanju', 'Bollywood', '2018', 'NULL', 'Vinod Chopra Films', '1', '5.9', 'Billions', 'INR', 'Hindi'], ['The Kashmir Files', 'Bollywood', '2022', '8.3', 'Zee Studios', '250', '3409', 'Millions', 'INR', 'Hindi'], ['Bajrangi Bhaijaan', 'Bollywood', '2015', '8.1', 'Salman Khan Films', '900', '11690', 'Millions', 'INR', 'Hindi'], ['Race 3', 'Bollywood', '2018', '1.9', 'Salman Khan Films', '1.8', '3.1', 'Billions', 'INR', 'Hindi'], ['Shershaah', 'Bollywood', '2021', '8.4', 'Dharma Productions', '500', '950', 'Millions', 'INR', 'Hindi'], ['K.G.F: Chapter 2', 'Bollywood', '2022', '8.4', 'Hombale Films', '1', '12.5', 'Billions', 'INR', 'Kannada'], ['Pushpa: The Rise - Part 1', 'Bollywood', '2021', '7.6', 'Mythri Movie Makers', '2', '3.6', 'Billions', 'INR', 'Telugu'], ['RRR', 'Bollywood', '2022', '8', 'DVV Entertainment', '5.5', '12', 'Billions', 'INR', 'Telugu'], ['Baahubali: The Beginning', 'Bollywood', '2015', '8', 'Arka Media Works', '1.8', '6.5', 'Billions', 'INR', 'Telugu']]\n"
     ]
    }
   ],
   "source": [
    "print(data[1:])"
   ]
  },
  {
   "cell_type": "code",
   "execution_count": 24,
   "id": "01963577",
   "metadata": {},
   "outputs": [
    {
     "data": {
      "text/html": [
       "<div>\n",
       "<style scoped>\n",
       "    .dataframe tbody tr th:only-of-type {\n",
       "        vertical-align: middle;\n",
       "    }\n",
       "\n",
       "    .dataframe tbody tr th {\n",
       "        vertical-align: top;\n",
       "    }\n",
       "\n",
       "    .dataframe thead th {\n",
       "        text-align: right;\n",
       "    }\n",
       "</style>\n",
       "<table border=\"1\" class=\"dataframe\">\n",
       "  <thead>\n",
       "    <tr style=\"text-align: right;\">\n",
       "      <th></th>\n",
       "      <th>title</th>\n",
       "      <th>industry</th>\n",
       "      <th>release_year</th>\n",
       "      <th>imdb_rating</th>\n",
       "      <th>studio</th>\n",
       "      <th>budget</th>\n",
       "      <th>revenue</th>\n",
       "      <th>unit</th>\n",
       "      <th>currency</th>\n",
       "      <th>language</th>\n",
       "    </tr>\n",
       "  </thead>\n",
       "  <tbody>\n",
       "    <tr>\n",
       "      <th>0</th>\n",
       "      <td>Pather Panchali</td>\n",
       "      <td>Bollywood</td>\n",
       "      <td>1955</td>\n",
       "      <td>8.3</td>\n",
       "      <td>Government of West Bengal</td>\n",
       "      <td>70000.0</td>\n",
       "      <td>100000.0</td>\n",
       "      <td>Thousands</td>\n",
       "      <td>INR</td>\n",
       "      <td>Bengali</td>\n",
       "    </tr>\n",
       "    <tr>\n",
       "      <th>1</th>\n",
       "      <td>Doctor Strange in the Multiverse of Madness</td>\n",
       "      <td>Hollywood</td>\n",
       "      <td>2022</td>\n",
       "      <td>7.0</td>\n",
       "      <td>Marvel Studios</td>\n",
       "      <td>200.0</td>\n",
       "      <td>954.8</td>\n",
       "      <td>Millions</td>\n",
       "      <td>USD</td>\n",
       "      <td>English</td>\n",
       "    </tr>\n",
       "    <tr>\n",
       "      <th>2</th>\n",
       "      <td>Thor: The Dark World</td>\n",
       "      <td>Hollywood</td>\n",
       "      <td>2013</td>\n",
       "      <td>6.8</td>\n",
       "      <td>Marvel Studios</td>\n",
       "      <td>165.0</td>\n",
       "      <td>644.8</td>\n",
       "      <td>Millions</td>\n",
       "      <td>USD</td>\n",
       "      <td>English</td>\n",
       "    </tr>\n",
       "    <tr>\n",
       "      <th>3</th>\n",
       "      <td>Thor: Ragnarok</td>\n",
       "      <td>Hollywood</td>\n",
       "      <td>2017</td>\n",
       "      <td>7.9</td>\n",
       "      <td>Marvel Studios</td>\n",
       "      <td>180.0</td>\n",
       "      <td>854.0</td>\n",
       "      <td>Millions</td>\n",
       "      <td>USD</td>\n",
       "      <td>English</td>\n",
       "    </tr>\n",
       "    <tr>\n",
       "      <th>4</th>\n",
       "      <td>Thor: Love and Thunder</td>\n",
       "      <td>Hollywood</td>\n",
       "      <td>2022</td>\n",
       "      <td>6.8</td>\n",
       "      <td>Marvel Studios</td>\n",
       "      <td>250.0</td>\n",
       "      <td>670.0</td>\n",
       "      <td>Millions</td>\n",
       "      <td>USD</td>\n",
       "      <td>English</td>\n",
       "    </tr>\n",
       "  </tbody>\n",
       "</table>\n",
       "</div>"
      ],
      "text/plain": [
       "                                         title   industry  release_year  \\\n",
       "0                              Pather Panchali  Bollywood          1955   \n",
       "1  Doctor Strange in the Multiverse of Madness  Hollywood          2022   \n",
       "2                        Thor: The Dark World   Hollywood          2013   \n",
       "3                              Thor: Ragnarok   Hollywood          2017   \n",
       "4                      Thor: Love and Thunder   Hollywood          2022   \n",
       "\n",
       "   imdb_rating                     studio   budget   revenue       unit  \\\n",
       "0          8.3  Government of West Bengal  70000.0  100000.0  Thousands   \n",
       "1          7.0             Marvel Studios    200.0     954.8   Millions   \n",
       "2          6.8             Marvel Studios    165.0     644.8   Millions   \n",
       "3          7.9             Marvel Studios    180.0     854.0   Millions   \n",
       "4          6.8             Marvel Studios    250.0     670.0   Millions   \n",
       "\n",
       "  currency language  \n",
       "0      INR  Bengali  \n",
       "1      USD  English  \n",
       "2      USD  English  \n",
       "3      USD  English  \n",
       "4      USD  English  "
      ]
     },
     "execution_count": 24,
     "metadata": {},
     "output_type": "execute_result"
    }
   ],
   "source": [
    "import pandas as pd\n",
    "\n",
    "df = pd.read_csv(\"movies.csv\")\n",
    "df.head()"
   ]
  },
  {
   "cell_type": "code",
   "execution_count": 25,
   "id": "91f1106f",
   "metadata": {},
   "outputs": [
    {
     "data": {
      "text/html": [
       "<div>\n",
       "<style scoped>\n",
       "    .dataframe tbody tr th:only-of-type {\n",
       "        vertical-align: middle;\n",
       "    }\n",
       "\n",
       "    .dataframe tbody tr th {\n",
       "        vertical-align: top;\n",
       "    }\n",
       "\n",
       "    .dataframe thead th {\n",
       "        text-align: right;\n",
       "    }\n",
       "</style>\n",
       "<table border=\"1\" class=\"dataframe\">\n",
       "  <thead>\n",
       "    <tr style=\"text-align: right;\">\n",
       "      <th></th>\n",
       "      <th>title</th>\n",
       "      <th>industry</th>\n",
       "      <th>release_year</th>\n",
       "      <th>imdb_rating</th>\n",
       "      <th>studio</th>\n",
       "      <th>budget</th>\n",
       "      <th>revenue</th>\n",
       "      <th>unit</th>\n",
       "      <th>currency</th>\n",
       "      <th>language</th>\n",
       "    </tr>\n",
       "  </thead>\n",
       "  <tbody>\n",
       "    <tr>\n",
       "      <th>26</th>\n",
       "      <td>Munna Bhai M.B.B.S.</td>\n",
       "      <td>Bollywood</td>\n",
       "      <td>2003</td>\n",
       "      <td>8.1</td>\n",
       "      <td>Vinod Chopra Productions</td>\n",
       "      <td>100.0</td>\n",
       "      <td>410.0</td>\n",
       "      <td>Millions</td>\n",
       "      <td>INR</td>\n",
       "      <td>Hindi</td>\n",
       "    </tr>\n",
       "    <tr>\n",
       "      <th>1</th>\n",
       "      <td>Doctor Strange in the Multiverse of Madness</td>\n",
       "      <td>Hollywood</td>\n",
       "      <td>2022</td>\n",
       "      <td>7.0</td>\n",
       "      <td>Marvel Studios</td>\n",
       "      <td>200.0</td>\n",
       "      <td>954.8</td>\n",
       "      <td>Millions</td>\n",
       "      <td>USD</td>\n",
       "      <td>English</td>\n",
       "    </tr>\n",
       "    <tr>\n",
       "      <th>27</th>\n",
       "      <td>PK</td>\n",
       "      <td>Bollywood</td>\n",
       "      <td>2014</td>\n",
       "      <td>8.1</td>\n",
       "      <td>Vinod Chopra Films</td>\n",
       "      <td>850.0</td>\n",
       "      <td>8540.0</td>\n",
       "      <td>Millions</td>\n",
       "      <td>INR</td>\n",
       "      <td>Hindi</td>\n",
       "    </tr>\n",
       "    <tr>\n",
       "      <th>2</th>\n",
       "      <td>Thor: The Dark World</td>\n",
       "      <td>Hollywood</td>\n",
       "      <td>2013</td>\n",
       "      <td>6.8</td>\n",
       "      <td>Marvel Studios</td>\n",
       "      <td>165.0</td>\n",
       "      <td>644.8</td>\n",
       "      <td>Millions</td>\n",
       "      <td>USD</td>\n",
       "      <td>English</td>\n",
       "    </tr>\n",
       "  </tbody>\n",
       "</table>\n",
       "</div>"
      ],
      "text/plain": [
       "                                          title   industry  release_year  \\\n",
       "26                          Munna Bhai M.B.B.S.  Bollywood          2003   \n",
       "1   Doctor Strange in the Multiverse of Madness  Hollywood          2022   \n",
       "27                                           PK  Bollywood          2014   \n",
       "2                         Thor: The Dark World   Hollywood          2013   \n",
       "\n",
       "    imdb_rating                    studio  budget  revenue      unit currency  \\\n",
       "26          8.1  Vinod Chopra Productions   100.0    410.0  Millions      INR   \n",
       "1           7.0            Marvel Studios   200.0    954.8  Millions      USD   \n",
       "27          8.1        Vinod Chopra Films   850.0   8540.0  Millions      INR   \n",
       "2           6.8            Marvel Studios   165.0    644.8  Millions      USD   \n",
       "\n",
       "   language  \n",
       "26    Hindi  \n",
       "1   English  \n",
       "27    Hindi  \n",
       "2   English  "
      ]
     },
     "execution_count": 25,
     "metadata": {},
     "output_type": "execute_result"
    }
   ],
   "source": [
    "df.sample(4)"
   ]
  },
  {
   "cell_type": "code",
   "execution_count": 26,
   "id": "0af582f2",
   "metadata": {},
   "outputs": [
    {
     "data": {
      "text/html": [
       "<div>\n",
       "<style scoped>\n",
       "    .dataframe tbody tr th:only-of-type {\n",
       "        vertical-align: middle;\n",
       "    }\n",
       "\n",
       "    .dataframe tbody tr th {\n",
       "        vertical-align: top;\n",
       "    }\n",
       "\n",
       "    .dataframe thead th {\n",
       "        text-align: right;\n",
       "    }\n",
       "</style>\n",
       "<table border=\"1\" class=\"dataframe\">\n",
       "  <thead>\n",
       "    <tr style=\"text-align: right;\">\n",
       "      <th></th>\n",
       "      <th>title</th>\n",
       "      <th>industry</th>\n",
       "      <th>release_year</th>\n",
       "      <th>imdb_rating</th>\n",
       "      <th>studio</th>\n",
       "      <th>budget</th>\n",
       "      <th>revenue</th>\n",
       "      <th>unit</th>\n",
       "      <th>currency</th>\n",
       "      <th>language</th>\n",
       "    </tr>\n",
       "  </thead>\n",
       "  <tbody>\n",
       "    <tr>\n",
       "      <th>2</th>\n",
       "      <td>Thor: The Dark World</td>\n",
       "      <td>Hollywood</td>\n",
       "      <td>2013</td>\n",
       "      <td>6.8</td>\n",
       "      <td>Marvel Studios</td>\n",
       "      <td>165.0</td>\n",
       "      <td>644.8</td>\n",
       "      <td>Millions</td>\n",
       "      <td>USD</td>\n",
       "      <td>English</td>\n",
       "    </tr>\n",
       "    <tr>\n",
       "      <th>3</th>\n",
       "      <td>Thor: Ragnarok</td>\n",
       "      <td>Hollywood</td>\n",
       "      <td>2017</td>\n",
       "      <td>7.9</td>\n",
       "      <td>Marvel Studios</td>\n",
       "      <td>180.0</td>\n",
       "      <td>854.0</td>\n",
       "      <td>Millions</td>\n",
       "      <td>USD</td>\n",
       "      <td>English</td>\n",
       "    </tr>\n",
       "    <tr>\n",
       "      <th>4</th>\n",
       "      <td>Thor: Love and Thunder</td>\n",
       "      <td>Hollywood</td>\n",
       "      <td>2022</td>\n",
       "      <td>6.8</td>\n",
       "      <td>Marvel Studios</td>\n",
       "      <td>250.0</td>\n",
       "      <td>670.0</td>\n",
       "      <td>Millions</td>\n",
       "      <td>USD</td>\n",
       "      <td>English</td>\n",
       "    </tr>\n",
       "    <tr>\n",
       "      <th>5</th>\n",
       "      <td>The Shawshank Redemption</td>\n",
       "      <td>Hollywood</td>\n",
       "      <td>1994</td>\n",
       "      <td>9.3</td>\n",
       "      <td>Castle Rock Entertainment</td>\n",
       "      <td>25.0</td>\n",
       "      <td>73.3</td>\n",
       "      <td>Millions</td>\n",
       "      <td>USD</td>\n",
       "      <td>English</td>\n",
       "    </tr>\n",
       "  </tbody>\n",
       "</table>\n",
       "</div>"
      ],
      "text/plain": [
       "                      title   industry  release_year  imdb_rating  \\\n",
       "2     Thor: The Dark World   Hollywood          2013          6.8   \n",
       "3           Thor: Ragnarok   Hollywood          2017          7.9   \n",
       "4   Thor: Love and Thunder   Hollywood          2022          6.8   \n",
       "5  The Shawshank Redemption  Hollywood          1994          9.3   \n",
       "\n",
       "                      studio  budget  revenue      unit currency language  \n",
       "2             Marvel Studios   165.0    644.8  Millions      USD  English  \n",
       "3             Marvel Studios   180.0    854.0  Millions      USD  English  \n",
       "4             Marvel Studios   250.0    670.0  Millions      USD  English  \n",
       "5  Castle Rock Entertainment    25.0     73.3  Millions      USD  English  "
      ]
     },
     "execution_count": 26,
     "metadata": {},
     "output_type": "execute_result"
    }
   ],
   "source": [
    "df[2:6]"
   ]
  },
  {
   "cell_type": "code",
   "execution_count": 27,
   "id": "68f049bb",
   "metadata": {},
   "outputs": [
    {
     "data": {
      "text/html": [
       "<div>\n",
       "<style scoped>\n",
       "    .dataframe tbody tr th:only-of-type {\n",
       "        vertical-align: middle;\n",
       "    }\n",
       "\n",
       "    .dataframe tbody tr th {\n",
       "        vertical-align: top;\n",
       "    }\n",
       "\n",
       "    .dataframe thead th {\n",
       "        text-align: right;\n",
       "    }\n",
       "</style>\n",
       "<table border=\"1\" class=\"dataframe\">\n",
       "  <thead>\n",
       "    <tr style=\"text-align: right;\">\n",
       "      <th></th>\n",
       "      <th>title</th>\n",
       "      <th>industry</th>\n",
       "      <th>release_year</th>\n",
       "      <th>imdb_rating</th>\n",
       "      <th>studio</th>\n",
       "      <th>budget</th>\n",
       "      <th>revenue</th>\n",
       "      <th>unit</th>\n",
       "      <th>currency</th>\n",
       "      <th>language</th>\n",
       "    </tr>\n",
       "  </thead>\n",
       "  <tbody>\n",
       "    <tr>\n",
       "      <th>0</th>\n",
       "      <td>Pather Panchali</td>\n",
       "      <td>Bollywood</td>\n",
       "      <td>1955</td>\n",
       "      <td>8.3</td>\n",
       "      <td>Government of West Bengal</td>\n",
       "      <td>70000.0</td>\n",
       "      <td>100000.0</td>\n",
       "      <td>Thousands</td>\n",
       "      <td>INR</td>\n",
       "      <td>Bengali</td>\n",
       "    </tr>\n",
       "    <tr>\n",
       "      <th>1</th>\n",
       "      <td>Doctor Strange in the Multiverse of Madness</td>\n",
       "      <td>Hollywood</td>\n",
       "      <td>2022</td>\n",
       "      <td>7.0</td>\n",
       "      <td>Marvel Studios</td>\n",
       "      <td>200.0</td>\n",
       "      <td>954.8</td>\n",
       "      <td>Millions</td>\n",
       "      <td>USD</td>\n",
       "      <td>English</td>\n",
       "    </tr>\n",
       "  </tbody>\n",
       "</table>\n",
       "</div>"
      ],
      "text/plain": [
       "                                         title   industry  release_year  \\\n",
       "0                              Pather Panchali  Bollywood          1955   \n",
       "1  Doctor Strange in the Multiverse of Madness  Hollywood          2022   \n",
       "\n",
       "   imdb_rating                     studio   budget   revenue       unit  \\\n",
       "0          8.3  Government of West Bengal  70000.0  100000.0  Thousands   \n",
       "1          7.0             Marvel Studios    200.0     954.8   Millions   \n",
       "\n",
       "  currency language  \n",
       "0      INR  Bengali  \n",
       "1      USD  English  "
      ]
     },
     "execution_count": 27,
     "metadata": {},
     "output_type": "execute_result"
    }
   ],
   "source": [
    "df.iloc[0:2]"
   ]
  },
  {
   "cell_type": "code",
   "execution_count": 28,
   "id": "be2a7261",
   "metadata": {},
   "outputs": [
    {
     "data": {
      "text/plain": [
       "'Doctor Strange in the Multiverse of Madness'"
      ]
     },
     "execution_count": 28,
     "metadata": {},
     "output_type": "execute_result"
    }
   ],
   "source": [
    "df.iloc[1][\"title\"]"
   ]
  },
  {
   "cell_type": "code",
   "execution_count": 29,
   "id": "48be2924",
   "metadata": {},
   "outputs": [
    {
     "data": {
      "text/html": [
       "<div>\n",
       "<style scoped>\n",
       "    .dataframe tbody tr th:only-of-type {\n",
       "        vertical-align: middle;\n",
       "    }\n",
       "\n",
       "    .dataframe tbody tr th {\n",
       "        vertical-align: top;\n",
       "    }\n",
       "\n",
       "    .dataframe thead th {\n",
       "        text-align: right;\n",
       "    }\n",
       "</style>\n",
       "<table border=\"1\" class=\"dataframe\">\n",
       "  <thead>\n",
       "    <tr style=\"text-align: right;\">\n",
       "      <th></th>\n",
       "      <th>title</th>\n",
       "      <th>industry</th>\n",
       "      <th>release_year</th>\n",
       "      <th>imdb_rating</th>\n",
       "      <th>studio</th>\n",
       "      <th>budget</th>\n",
       "      <th>revenue</th>\n",
       "      <th>unit</th>\n",
       "      <th>currency</th>\n",
       "      <th>language</th>\n",
       "    </tr>\n",
       "  </thead>\n",
       "  <tbody>\n",
       "    <tr>\n",
       "      <th>0</th>\n",
       "      <td>Pather Panchali</td>\n",
       "      <td>Bollywood</td>\n",
       "      <td>1955</td>\n",
       "      <td>8.3</td>\n",
       "      <td>Government of West Bengal</td>\n",
       "      <td>70000.0</td>\n",
       "      <td>100000.0</td>\n",
       "      <td>Thousands</td>\n",
       "      <td>INR</td>\n",
       "      <td>Bengali</td>\n",
       "    </tr>\n",
       "    <tr>\n",
       "      <th>1</th>\n",
       "      <td>Doctor Strange in the Multiverse of Madness</td>\n",
       "      <td>Hollywood</td>\n",
       "      <td>2022</td>\n",
       "      <td>7.0</td>\n",
       "      <td>Marvel Studios</td>\n",
       "      <td>200.0</td>\n",
       "      <td>954.8</td>\n",
       "      <td>Millions</td>\n",
       "      <td>USD</td>\n",
       "      <td>English</td>\n",
       "    </tr>\n",
       "    <tr>\n",
       "      <th>2</th>\n",
       "      <td>Thor: The Dark World</td>\n",
       "      <td>Hollywood</td>\n",
       "      <td>2013</td>\n",
       "      <td>6.8</td>\n",
       "      <td>Marvel Studios</td>\n",
       "      <td>165.0</td>\n",
       "      <td>644.8</td>\n",
       "      <td>Millions</td>\n",
       "      <td>USD</td>\n",
       "      <td>English</td>\n",
       "    </tr>\n",
       "  </tbody>\n",
       "</table>\n",
       "</div>"
      ],
      "text/plain": [
       "                                         title   industry  release_year  \\\n",
       "0                              Pather Panchali  Bollywood          1955   \n",
       "1  Doctor Strange in the Multiverse of Madness  Hollywood          2022   \n",
       "2                        Thor: The Dark World   Hollywood          2013   \n",
       "\n",
       "   imdb_rating                     studio   budget   revenue       unit  \\\n",
       "0          8.3  Government of West Bengal  70000.0  100000.0  Thousands   \n",
       "1          7.0             Marvel Studios    200.0     954.8   Millions   \n",
       "2          6.8             Marvel Studios    165.0     644.8   Millions   \n",
       "\n",
       "  currency language  \n",
       "0      INR  Bengali  \n",
       "1      USD  English  \n",
       "2      USD  English  "
      ]
     },
     "execution_count": 29,
     "metadata": {},
     "output_type": "execute_result"
    }
   ],
   "source": [
    "df.loc[0:2]"
   ]
  },
  {
   "cell_type": "code",
   "execution_count": 33,
   "id": "0219f5ca",
   "metadata": {
    "scrolled": true
   },
   "outputs": [
    {
     "data": {
      "text/plain": [
       "array([['Pather Panchali', 'Bollywood', 1955, 8.3,\n",
       "        'Government of West Bengal', 70000.0, 100000.0, 'Thousands',\n",
       "        'INR', 'Bengali'],\n",
       "       ['Doctor Strange in the Multiverse of Madness', 'Hollywood', 2022,\n",
       "        7.0, 'Marvel Studios', 200.0, 954.8, 'Millions', 'USD',\n",
       "        'English'],\n",
       "       ['Thor: The Dark World ', 'Hollywood', 2013, 6.8,\n",
       "        'Marvel Studios', 165.0, 644.8, 'Millions', 'USD', 'English'],\n",
       "       ['Thor: Ragnarok ', 'Hollywood', 2017, 7.9, 'Marvel Studios',\n",
       "        180.0, 854.0, 'Millions', 'USD', 'English'],\n",
       "       ['Thor: Love and Thunder ', 'Hollywood', 2022, 6.8,\n",
       "        'Marvel Studios', 250.0, 670.0, 'Millions', 'USD', 'English'],\n",
       "       ['The Shawshank Redemption', 'Hollywood', 1994, 9.3,\n",
       "        'Castle Rock Entertainment', 25.0, 73.3, 'Millions', 'USD',\n",
       "        'English'],\n",
       "       ['Interstellar', 'Hollywood', 2014, 8.6, 'Warner Bros. Pictures',\n",
       "        165.0, 701.8, 'Millions', 'USD', 'English'],\n",
       "       ['The Pursuit of Happyness', 'Hollywood', 2006, 8.0,\n",
       "        'Columbia Pictures', 55.0, 307.1, 'Millions', 'USD', 'English'],\n",
       "       ['Gladiator', 'Hollywood', 2000, 8.5, 'Universal Pictures  ',\n",
       "        103.0, 460.5, 'Millions', 'USD', 'English'],\n",
       "       ['Titanic', 'Hollywood', 1997, 7.9, 'Paramount Pictures', 200.0,\n",
       "        2202.0, 'Millions', 'USD', 'English'],\n",
       "       [\"It's a Wonderful Life\", 'Hollywood', 1946, 8.6, 'Liberty Films',\n",
       "        3.18, 3.3, 'Millions', 'USD', 'English'],\n",
       "       ['Avatar', 'Hollywood', 2009, 7.8, '20th Century Fox', 237.0,\n",
       "        2847.0, 'Millions', 'USD', 'English'],\n",
       "       ['The Godfather', 'Hollywood', 1972, 9.2, 'Paramount Pictures',\n",
       "        7.2, 291.0, 'Millions', 'USD', 'English'],\n",
       "       ['The Dark Knight', 'Hollywood', 2008, 9.0, 'Syncopy', 185.0,\n",
       "        1006.0, 'Millions', 'USD', 'English'],\n",
       "       [\"Schindler's List\", 'Hollywood', 1993, 9.0, 'Universal Pictures',\n",
       "        22.0, 322.2, 'Millions', 'USD', 'English'],\n",
       "       ['Jurassic Park', 'Hollywood', 1993, 8.2, 'Universal Pictures',\n",
       "        63.0, 1046.0, 'Millions', 'USD', 'English'],\n",
       "       ['Parasite', 'Hollywood', 2019, 8.5, nan, 15.5, 263.1, 'Millions',\n",
       "        'USD', 'English'],\n",
       "       ['Avengers: Endgame', 'Hollywood', 2019, 8.4, 'Marvel Studios',\n",
       "        400.0, 2798.0, 'Millions', 'USD', 'English'],\n",
       "       ['Avengers: Infinity War', 'Hollywood', 2018, 8.4,\n",
       "        'Marvel Studios', 400.0, 2048.0, 'Millions', 'USD', 'English'],\n",
       "       ['Captain America: The First Avenger', 'Hollywood', 2011, 6.9,\n",
       "        'Marvel Studios', 216.7, 370.6, 'Millions', 'USD', 'English'],\n",
       "       ['Captain America: The Winter Soldier', 'Hollywood', 2014, 7.8,\n",
       "        'Marvel Studios', 177.0, 714.4, 'Millions', 'USD', 'English'],\n",
       "       ['Dilwale Dulhania Le Jayenge', 'Bollywood', 1995, 8.0,\n",
       "        'Yash Raj Films', 400.0, 2000.0, 'Millions', 'INR', 'Hindi'],\n",
       "       ['3 Idiots', 'Bollywood', 2009, 8.4, 'Vinod Chopra Films', 550.0,\n",
       "        4000.0, 'Millions', 'INR', 'Hindi'],\n",
       "       ['Kabhi Khushi Kabhie Gham', 'Bollywood', 2001, 7.4,\n",
       "        'Dharma Productions', 390.0, 1360.0, 'Millions', 'INR', 'Hindi'],\n",
       "       ['Bajirao Mastani ', 'Bollywood', 2015, 7.2, nan, 1.4, 3.5,\n",
       "        'Billions', 'INR', 'Hindi'],\n",
       "       ['Taare Zameen Par', 'Bollywood', 2007, 8.3, nan, 120.0, 1350.0,\n",
       "        'Millions', 'INR', 'Hindi'],\n",
       "       ['Munna Bhai M.B.B.S.', 'Bollywood', 2003, 8.1,\n",
       "        'Vinod Chopra Productions', 100.0, 410.0, 'Millions', 'INR',\n",
       "        'Hindi'],\n",
       "       ['PK', 'Bollywood', 2014, 8.1, 'Vinod Chopra Films', 850.0,\n",
       "        8540.0, 'Millions', 'INR', 'Hindi'],\n",
       "       ['Sanju', 'Bollywood', 2018, nan, 'Vinod Chopra Films', 1.0, 5.9,\n",
       "        'Billions', 'INR', 'Hindi'],\n",
       "       ['The Kashmir Files', 'Bollywood', 2022, 8.3, 'Zee Studios',\n",
       "        250.0, 3409.0, 'Millions', 'INR', 'Hindi'],\n",
       "       ['Bajrangi Bhaijaan', 'Bollywood', 2015, 8.1, 'Salman Khan Films',\n",
       "        900.0, 11690.0, 'Millions', 'INR', 'Hindi'],\n",
       "       ['Race 3', 'Bollywood', 2018, 1.9, 'Salman Khan Films', 1.8, 3.1,\n",
       "        'Billions', 'INR', 'Hindi'],\n",
       "       ['Shershaah', 'Bollywood', 2021, 8.4, 'Dharma Productions', 500.0,\n",
       "        950.0, 'Millions', 'INR', 'Hindi'],\n",
       "       ['K.G.F: Chapter 2', 'Bollywood', 2022, 8.4, 'Hombale Films', 1.0,\n",
       "        12.5, 'Billions', 'INR', 'Kannada'],\n",
       "       ['Pushpa: The Rise - Part 1', 'Bollywood', 2021, 7.6,\n",
       "        'Mythri Movie Makers', 2.0, 3.6, 'Billions', 'INR', 'Telugu'],\n",
       "       ['RRR', 'Bollywood', 2022, 8.0, 'DVV Entertainment', 5.5, 12.0,\n",
       "        'Billions', 'INR', 'Telugu'],\n",
       "       ['Baahubali: The Beginning', 'Bollywood', 2015, 8.0,\n",
       "        'Arka Media Works', 1.8, 6.5, 'Billions', 'INR', 'Telugu']],\n",
       "      dtype=object)"
      ]
     },
     "execution_count": 33,
     "metadata": {},
     "output_type": "execute_result"
    }
   ],
   "source": [
    "df.values"
   ]
  },
  {
   "cell_type": "code",
   "execution_count": 36,
   "id": "275b8d34",
   "metadata": {},
   "outputs": [
    {
     "data": {
      "text/plain": [
       "(37, 10)"
      ]
     },
     "execution_count": 36,
     "metadata": {},
     "output_type": "execute_result"
    }
   ],
   "source": [
    "df.shape"
   ]
  },
  {
   "cell_type": "code",
   "execution_count": 37,
   "id": "0f74fa5b",
   "metadata": {
    "scrolled": true
   },
   "outputs": [
    {
     "data": {
      "text/plain": [
       "0     8.3\n",
       "1     7.0\n",
       "2     6.8\n",
       "3     7.9\n",
       "4     6.8\n",
       "5     9.3\n",
       "6     8.6\n",
       "7     8.0\n",
       "8     8.5\n",
       "9     7.9\n",
       "10    8.6\n",
       "11    7.8\n",
       "12    9.2\n",
       "13    9.0\n",
       "14    9.0\n",
       "15    8.2\n",
       "16    8.5\n",
       "17    8.4\n",
       "18    8.4\n",
       "19    6.9\n",
       "20    7.8\n",
       "21    8.0\n",
       "22    8.4\n",
       "23    7.4\n",
       "24    7.2\n",
       "25    8.3\n",
       "26    8.1\n",
       "27    8.1\n",
       "28    NaN\n",
       "29    8.3\n",
       "30    8.1\n",
       "31    1.9\n",
       "32    8.4\n",
       "33    8.4\n",
       "34    7.6\n",
       "35    8.0\n",
       "36    8.0\n",
       "Name: imdb_rating, dtype: float64"
      ]
     },
     "execution_count": 37,
     "metadata": {},
     "output_type": "execute_result"
    }
   ],
   "source": [
    "df[\"imdb_rating\"]"
   ]
  },
  {
   "cell_type": "code",
   "execution_count": 38,
   "id": "5a321ada",
   "metadata": {},
   "outputs": [
    {
     "data": {
      "text/plain": [
       "7.919444444444445"
      ]
     },
     "execution_count": 38,
     "metadata": {},
     "output_type": "execute_result"
    }
   ],
   "source": [
    "df[\"imdb_rating\"].mean()"
   ]
  },
  {
   "cell_type": "code",
   "execution_count": 39,
   "id": "20aeda0a",
   "metadata": {},
   "outputs": [
    {
     "data": {
      "text/plain": [
       "1.9"
      ]
     },
     "execution_count": 39,
     "metadata": {},
     "output_type": "execute_result"
    }
   ],
   "source": [
    "df[\"imdb_rating\"].min()"
   ]
  },
  {
   "cell_type": "code",
   "execution_count": 40,
   "id": "3a82d283",
   "metadata": {},
   "outputs": [
    {
     "data": {
      "text/plain": [
       "9.3"
      ]
     },
     "execution_count": 40,
     "metadata": {},
     "output_type": "execute_result"
    }
   ],
   "source": [
    "df[\"imdb_rating\"].max()"
   ]
  },
  {
   "cell_type": "code",
   "execution_count": 43,
   "id": "32d5ae06",
   "metadata": {},
   "outputs": [
    {
     "data": {
      "text/plain": [
       "industry\n",
       "Bollywood    7.65625\n",
       "Hollywood    8.13000\n",
       "Name: imdb_rating, dtype: float64"
      ]
     },
     "execution_count": 43,
     "metadata": {},
     "output_type": "execute_result"
    }
   ],
   "source": [
    "df.groupby(\"industry\")[\"imdb_rating\"].mean()"
   ]
  },
  {
   "cell_type": "code",
   "execution_count": 44,
   "id": "7b125c56",
   "metadata": {},
   "outputs": [
    {
     "data": {
      "text/plain": [
       "industry\n",
       "Bollywood    1.9\n",
       "Hollywood    6.8\n",
       "Name: imdb_rating, dtype: float64"
      ]
     },
     "execution_count": 44,
     "metadata": {},
     "output_type": "execute_result"
    }
   ],
   "source": [
    "df.groupby(\"industry\")[\"imdb_rating\"].min()"
   ]
  },
  {
   "cell_type": "code",
   "execution_count": 45,
   "id": "4285f035",
   "metadata": {},
   "outputs": [
    {
     "data": {
      "text/plain": [
       "industry\n",
       "Bollywood    8.4\n",
       "Hollywood    9.3\n",
       "Name: imdb_rating, dtype: float64"
      ]
     },
     "execution_count": 45,
     "metadata": {},
     "output_type": "execute_result"
    }
   ],
   "source": [
    "df.groupby(\"industry\")[\"imdb_rating\"].max()"
   ]
  },
  {
   "cell_type": "code",
   "execution_count": 46,
   "id": "d0f7969b",
   "metadata": {
    "scrolled": true
   },
   "outputs": [
    {
     "data": {
      "text/html": [
       "<div>\n",
       "<style scoped>\n",
       "    .dataframe tbody tr th:only-of-type {\n",
       "        vertical-align: middle;\n",
       "    }\n",
       "\n",
       "    .dataframe tbody tr th {\n",
       "        vertical-align: top;\n",
       "    }\n",
       "\n",
       "    .dataframe thead th {\n",
       "        text-align: right;\n",
       "    }\n",
       "</style>\n",
       "<table border=\"1\" class=\"dataframe\">\n",
       "  <thead>\n",
       "    <tr style=\"text-align: right;\">\n",
       "      <th></th>\n",
       "      <th>title</th>\n",
       "      <th>industry</th>\n",
       "      <th>release_year</th>\n",
       "      <th>imdb_rating</th>\n",
       "      <th>studio</th>\n",
       "      <th>budget</th>\n",
       "      <th>revenue</th>\n",
       "      <th>unit</th>\n",
       "      <th>currency</th>\n",
       "      <th>language</th>\n",
       "    </tr>\n",
       "  </thead>\n",
       "  <tbody>\n",
       "    <tr>\n",
       "      <th>0</th>\n",
       "      <td>Pather Panchali</td>\n",
       "      <td>Bollywood</td>\n",
       "      <td>1955</td>\n",
       "      <td>8.3</td>\n",
       "      <td>Government of West Bengal</td>\n",
       "      <td>70000.0</td>\n",
       "      <td>100000.0</td>\n",
       "      <td>Thousands</td>\n",
       "      <td>INR</td>\n",
       "      <td>Bengali</td>\n",
       "    </tr>\n",
       "    <tr>\n",
       "      <th>21</th>\n",
       "      <td>Dilwale Dulhania Le Jayenge</td>\n",
       "      <td>Bollywood</td>\n",
       "      <td>1995</td>\n",
       "      <td>8.0</td>\n",
       "      <td>Yash Raj Films</td>\n",
       "      <td>400.0</td>\n",
       "      <td>2000.0</td>\n",
       "      <td>Millions</td>\n",
       "      <td>INR</td>\n",
       "      <td>Hindi</td>\n",
       "    </tr>\n",
       "    <tr>\n",
       "      <th>22</th>\n",
       "      <td>3 Idiots</td>\n",
       "      <td>Bollywood</td>\n",
       "      <td>2009</td>\n",
       "      <td>8.4</td>\n",
       "      <td>Vinod Chopra Films</td>\n",
       "      <td>550.0</td>\n",
       "      <td>4000.0</td>\n",
       "      <td>Millions</td>\n",
       "      <td>INR</td>\n",
       "      <td>Hindi</td>\n",
       "    </tr>\n",
       "    <tr>\n",
       "      <th>23</th>\n",
       "      <td>Kabhi Khushi Kabhie Gham</td>\n",
       "      <td>Bollywood</td>\n",
       "      <td>2001</td>\n",
       "      <td>7.4</td>\n",
       "      <td>Dharma Productions</td>\n",
       "      <td>390.0</td>\n",
       "      <td>1360.0</td>\n",
       "      <td>Millions</td>\n",
       "      <td>INR</td>\n",
       "      <td>Hindi</td>\n",
       "    </tr>\n",
       "    <tr>\n",
       "      <th>24</th>\n",
       "      <td>Bajirao Mastani</td>\n",
       "      <td>Bollywood</td>\n",
       "      <td>2015</td>\n",
       "      <td>7.2</td>\n",
       "      <td>NaN</td>\n",
       "      <td>1.4</td>\n",
       "      <td>3.5</td>\n",
       "      <td>Billions</td>\n",
       "      <td>INR</td>\n",
       "      <td>Hindi</td>\n",
       "    </tr>\n",
       "    <tr>\n",
       "      <th>25</th>\n",
       "      <td>Taare Zameen Par</td>\n",
       "      <td>Bollywood</td>\n",
       "      <td>2007</td>\n",
       "      <td>8.3</td>\n",
       "      <td>NaN</td>\n",
       "      <td>120.0</td>\n",
       "      <td>1350.0</td>\n",
       "      <td>Millions</td>\n",
       "      <td>INR</td>\n",
       "      <td>Hindi</td>\n",
       "    </tr>\n",
       "    <tr>\n",
       "      <th>26</th>\n",
       "      <td>Munna Bhai M.B.B.S.</td>\n",
       "      <td>Bollywood</td>\n",
       "      <td>2003</td>\n",
       "      <td>8.1</td>\n",
       "      <td>Vinod Chopra Productions</td>\n",
       "      <td>100.0</td>\n",
       "      <td>410.0</td>\n",
       "      <td>Millions</td>\n",
       "      <td>INR</td>\n",
       "      <td>Hindi</td>\n",
       "    </tr>\n",
       "    <tr>\n",
       "      <th>27</th>\n",
       "      <td>PK</td>\n",
       "      <td>Bollywood</td>\n",
       "      <td>2014</td>\n",
       "      <td>8.1</td>\n",
       "      <td>Vinod Chopra Films</td>\n",
       "      <td>850.0</td>\n",
       "      <td>8540.0</td>\n",
       "      <td>Millions</td>\n",
       "      <td>INR</td>\n",
       "      <td>Hindi</td>\n",
       "    </tr>\n",
       "    <tr>\n",
       "      <th>28</th>\n",
       "      <td>Sanju</td>\n",
       "      <td>Bollywood</td>\n",
       "      <td>2018</td>\n",
       "      <td>NaN</td>\n",
       "      <td>Vinod Chopra Films</td>\n",
       "      <td>1.0</td>\n",
       "      <td>5.9</td>\n",
       "      <td>Billions</td>\n",
       "      <td>INR</td>\n",
       "      <td>Hindi</td>\n",
       "    </tr>\n",
       "    <tr>\n",
       "      <th>29</th>\n",
       "      <td>The Kashmir Files</td>\n",
       "      <td>Bollywood</td>\n",
       "      <td>2022</td>\n",
       "      <td>8.3</td>\n",
       "      <td>Zee Studios</td>\n",
       "      <td>250.0</td>\n",
       "      <td>3409.0</td>\n",
       "      <td>Millions</td>\n",
       "      <td>INR</td>\n",
       "      <td>Hindi</td>\n",
       "    </tr>\n",
       "    <tr>\n",
       "      <th>30</th>\n",
       "      <td>Bajrangi Bhaijaan</td>\n",
       "      <td>Bollywood</td>\n",
       "      <td>2015</td>\n",
       "      <td>8.1</td>\n",
       "      <td>Salman Khan Films</td>\n",
       "      <td>900.0</td>\n",
       "      <td>11690.0</td>\n",
       "      <td>Millions</td>\n",
       "      <td>INR</td>\n",
       "      <td>Hindi</td>\n",
       "    </tr>\n",
       "    <tr>\n",
       "      <th>31</th>\n",
       "      <td>Race 3</td>\n",
       "      <td>Bollywood</td>\n",
       "      <td>2018</td>\n",
       "      <td>1.9</td>\n",
       "      <td>Salman Khan Films</td>\n",
       "      <td>1.8</td>\n",
       "      <td>3.1</td>\n",
       "      <td>Billions</td>\n",
       "      <td>INR</td>\n",
       "      <td>Hindi</td>\n",
       "    </tr>\n",
       "    <tr>\n",
       "      <th>32</th>\n",
       "      <td>Shershaah</td>\n",
       "      <td>Bollywood</td>\n",
       "      <td>2021</td>\n",
       "      <td>8.4</td>\n",
       "      <td>Dharma Productions</td>\n",
       "      <td>500.0</td>\n",
       "      <td>950.0</td>\n",
       "      <td>Millions</td>\n",
       "      <td>INR</td>\n",
       "      <td>Hindi</td>\n",
       "    </tr>\n",
       "    <tr>\n",
       "      <th>33</th>\n",
       "      <td>K.G.F: Chapter 2</td>\n",
       "      <td>Bollywood</td>\n",
       "      <td>2022</td>\n",
       "      <td>8.4</td>\n",
       "      <td>Hombale Films</td>\n",
       "      <td>1.0</td>\n",
       "      <td>12.5</td>\n",
       "      <td>Billions</td>\n",
       "      <td>INR</td>\n",
       "      <td>Kannada</td>\n",
       "    </tr>\n",
       "    <tr>\n",
       "      <th>34</th>\n",
       "      <td>Pushpa: The Rise - Part 1</td>\n",
       "      <td>Bollywood</td>\n",
       "      <td>2021</td>\n",
       "      <td>7.6</td>\n",
       "      <td>Mythri Movie Makers</td>\n",
       "      <td>2.0</td>\n",
       "      <td>3.6</td>\n",
       "      <td>Billions</td>\n",
       "      <td>INR</td>\n",
       "      <td>Telugu</td>\n",
       "    </tr>\n",
       "    <tr>\n",
       "      <th>35</th>\n",
       "      <td>RRR</td>\n",
       "      <td>Bollywood</td>\n",
       "      <td>2022</td>\n",
       "      <td>8.0</td>\n",
       "      <td>DVV Entertainment</td>\n",
       "      <td>5.5</td>\n",
       "      <td>12.0</td>\n",
       "      <td>Billions</td>\n",
       "      <td>INR</td>\n",
       "      <td>Telugu</td>\n",
       "    </tr>\n",
       "    <tr>\n",
       "      <th>36</th>\n",
       "      <td>Baahubali: The Beginning</td>\n",
       "      <td>Bollywood</td>\n",
       "      <td>2015</td>\n",
       "      <td>8.0</td>\n",
       "      <td>Arka Media Works</td>\n",
       "      <td>1.8</td>\n",
       "      <td>6.5</td>\n",
       "      <td>Billions</td>\n",
       "      <td>INR</td>\n",
       "      <td>Telugu</td>\n",
       "    </tr>\n",
       "  </tbody>\n",
       "</table>\n",
       "</div>"
      ],
      "text/plain": [
       "                          title   industry  release_year  imdb_rating  \\\n",
       "0               Pather Panchali  Bollywood          1955          8.3   \n",
       "21  Dilwale Dulhania Le Jayenge  Bollywood          1995          8.0   \n",
       "22                     3 Idiots  Bollywood          2009          8.4   \n",
       "23     Kabhi Khushi Kabhie Gham  Bollywood          2001          7.4   \n",
       "24             Bajirao Mastani   Bollywood          2015          7.2   \n",
       "25             Taare Zameen Par  Bollywood          2007          8.3   \n",
       "26          Munna Bhai M.B.B.S.  Bollywood          2003          8.1   \n",
       "27                           PK  Bollywood          2014          8.1   \n",
       "28                        Sanju  Bollywood          2018          NaN   \n",
       "29            The Kashmir Files  Bollywood          2022          8.3   \n",
       "30            Bajrangi Bhaijaan  Bollywood          2015          8.1   \n",
       "31                       Race 3  Bollywood          2018          1.9   \n",
       "32                    Shershaah  Bollywood          2021          8.4   \n",
       "33             K.G.F: Chapter 2  Bollywood          2022          8.4   \n",
       "34    Pushpa: The Rise - Part 1  Bollywood          2021          7.6   \n",
       "35                          RRR  Bollywood          2022          8.0   \n",
       "36     Baahubali: The Beginning  Bollywood          2015          8.0   \n",
       "\n",
       "                       studio   budget   revenue       unit currency language  \n",
       "0   Government of West Bengal  70000.0  100000.0  Thousands      INR  Bengali  \n",
       "21             Yash Raj Films    400.0    2000.0   Millions      INR    Hindi  \n",
       "22         Vinod Chopra Films    550.0    4000.0   Millions      INR    Hindi  \n",
       "23         Dharma Productions    390.0    1360.0   Millions      INR    Hindi  \n",
       "24                        NaN      1.4       3.5   Billions      INR    Hindi  \n",
       "25                        NaN    120.0    1350.0   Millions      INR    Hindi  \n",
       "26   Vinod Chopra Productions    100.0     410.0   Millions      INR    Hindi  \n",
       "27         Vinod Chopra Films    850.0    8540.0   Millions      INR    Hindi  \n",
       "28         Vinod Chopra Films      1.0       5.9   Billions      INR    Hindi  \n",
       "29                Zee Studios    250.0    3409.0   Millions      INR    Hindi  \n",
       "30          Salman Khan Films    900.0   11690.0   Millions      INR    Hindi  \n",
       "31          Salman Khan Films      1.8       3.1   Billions      INR    Hindi  \n",
       "32         Dharma Productions    500.0     950.0   Millions      INR    Hindi  \n",
       "33              Hombale Films      1.0      12.5   Billions      INR  Kannada  \n",
       "34        Mythri Movie Makers      2.0       3.6   Billions      INR   Telugu  \n",
       "35          DVV Entertainment      5.5      12.0   Billions      INR   Telugu  \n",
       "36           Arka Media Works      1.8       6.5   Billions      INR   Telugu  "
      ]
     },
     "execution_count": 46,
     "metadata": {},
     "output_type": "execute_result"
    }
   ],
   "source": [
    "df[df.industry==\"Bollywood\"]"
   ]
  },
  {
   "cell_type": "code",
   "execution_count": 48,
   "id": "24107b71",
   "metadata": {},
   "outputs": [
    {
     "data": {
      "text/plain": [
       "(7.656250000000001, 1.9, 8.4)"
      ]
     },
     "execution_count": 48,
     "metadata": {},
     "output_type": "execute_result"
    }
   ],
   "source": [
    "df[df.industry==\"Bollywood\"][\"imdb_rating\"].mean(),df[df.industry==\"Bollywood\"][\"imdb_rating\"].min(),df[df.industry==\"Bollywood\"][\"imdb_rating\"].max()"
   ]
  },
  {
   "cell_type": "code",
   "execution_count": 49,
   "id": "bbab097e",
   "metadata": {},
   "outputs": [
    {
     "data": {
      "text/plain": [
       "(8.130000000000003, 1.9, 8.4)"
      ]
     },
     "execution_count": 49,
     "metadata": {},
     "output_type": "execute_result"
    }
   ],
   "source": [
    "df[df.industry==\"Hollywood\"][\"imdb_rating\"].mean(),df[df.industry==\"Bollywood\"][\"imdb_rating\"].min(),df[df.industry==\"Bollywood\"][\"imdb_rating\"].max()"
   ]
  },
  {
   "cell_type": "code",
   "execution_count": null,
   "id": "bbf6582a",
   "metadata": {},
   "outputs": [],
   "source": []
  }
 ],
 "metadata": {
  "kernelspec": {
   "display_name": "Python 3",
   "language": "python",
   "name": "python3"
  },
  "language_info": {
   "codemirror_mode": {
    "name": "ipython",
    "version": 3
   },
   "file_extension": ".py",
   "mimetype": "text/x-python",
   "name": "python",
   "nbconvert_exporter": "python",
   "pygments_lexer": "ipython3",
   "version": "3.8.8"
  }
 },
 "nbformat": 4,
 "nbformat_minor": 5
}
